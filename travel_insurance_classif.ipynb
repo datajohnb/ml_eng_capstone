{
 "cells": [
  {
   "cell_type": "markdown",
   "metadata": {},
   "source": [
    "## The project: Predict travel insurance claims"
   ]
  },
  {
   "cell_type": "markdown",
   "metadata": {},
   "source": [
    "We use the \"Travel Insurance\" dataset from Zahier Nasrudin, published on Kaggle (Nasrudin, 2019). It contains data from a third-party insurance servicing company based in Singapore. &nbsp;\n",
    "\n",
    "The target in the data is a binary variable indicating whether the policy holder filed a claim against the insurance company. This target will be predicted using as features characteristics of the travel insurance holders, attributes of the associated trips, as well as attributes of the insurance products purchased. Specifically, the used features are: agency, agency type, travel insurance product type (e.g. cancellation, rental vehicel, ticket protector), distribution channel (online, offline), country of destination, trip duration, net sales, commision, as well as gender and age of the policy holder.\n",
    "&nbsp;\n",
    "\n",
    "Link to data: https://www.kaggle.com/datasets/mhdzahier/travel-insurance"
   ]
  },
  {
   "cell_type": "code",
   "execution_count": null,
   "metadata": {},
   "outputs": [],
   "source": [
    "!pip install -U sagemaker"
   ]
  },
  {
   "cell_type": "code",
   "execution_count": null,
   "metadata": {},
   "outputs": [],
   "source": [
    "!pip install -U boto3"
   ]
  },
  {
   "cell_type": "code",
   "execution_count": null,
   "metadata": {},
   "outputs": [],
   "source": [
    "# For .info() method to run below, need to older version of numpy\n",
    "!pip install numpy==1.18.1"
   ]
  },
  {
   "cell_type": "code",
   "execution_count": 1,
   "metadata": {},
   "outputs": [],
   "source": [
    "import sagemaker\n",
    "import pandas as pd\n",
    "import numpy as np\n",
    "from platform import python_version\n",
    "import zipfile\n",
    "import matplotlib.pyplot as plt\n",
    "import seaborn as sns\n",
    "%matplotlib inline\n",
    "from sklearn.model_selection import train_test_split\n",
    "from sklearn.metrics import accuracy_score, recall_score\n",
    "import os\n",
    "import sagemaker\n",
    "import boto3\n",
    "from sagemaker.sklearn.estimator import SKLearn\n",
    "from sagemaker.xgboost.estimator import XGBoost"
   ]
  },
  {
   "cell_type": "code",
   "execution_count": 2,
   "metadata": {},
   "outputs": [
    {
     "data": {
      "text/plain": [
       "('3.7.10', '1.18.1')"
      ]
     },
     "execution_count": 2,
     "metadata": {},
     "output_type": "execute_result"
    }
   ],
   "source": [
    "python_version(), np.__version__"
   ]
  },
  {
   "cell_type": "code",
   "execution_count": 3,
   "metadata": {},
   "outputs": [
    {
     "data": {
      "text/plain": [
       "('2.107.0', '1.26.8')"
      ]
     },
     "execution_count": 3,
     "metadata": {},
     "output_type": "execute_result"
    }
   ],
   "source": [
    "sagemaker.__version__, boto3.__version__"
   ]
  },
  {
   "cell_type": "markdown",
   "metadata": {},
   "source": [
    "### (1-a) Download data from Kaggle into Jupyter NB instance folder, load data into Jupyter NB environment"
   ]
  },
  {
   "cell_type": "markdown",
   "metadata": {},
   "source": [
    "(1) Download the authentication json file ('kaggle.json') from Kaggle & upload it to the notebook file directory <br>\n",
    "(2) Run the following code in bash terminal to download the travel insurance dataset from Kaggle"
   ]
  },
  {
   "cell_type": "code",
   "execution_count": null,
   "metadata": {},
   "outputs": [],
   "source": [
    "# pip install kaggle\n",
    "# mkdir ~/.kaggle\n",
    "# cp kaggle.json ~/.kaggle/\n",
    "# chmod 600 .kaggle/kaggle.json\n",
    "# cd ml_eng_capstone\n",
    "# kaggle datasets download -d mhdzahier/travel-insurance"
   ]
  },
  {
   "cell_type": "markdown",
   "metadata": {},
   "source": [
    "Load data persisted on Jupyter notebook instance into Jupyter notebook environment"
   ]
  },
  {
   "cell_type": "code",
   "execution_count": 35,
   "metadata": {},
   "outputs": [],
   "source": [
    "with zipfile.ZipFile('travel-insurance.zip', 'r') as zip_ref:\n",
    "    zip_ref.extractall()\n",
    "travel_insurance_df = pd.read_csv('travel insurance.csv')"
   ]
  },
  {
   "cell_type": "markdown",
   "metadata": {},
   "source": [
    "### (1-b) Inspect & clean data"
   ]
  },
  {
   "cell_type": "code",
   "execution_count": 36,
   "metadata": {},
   "outputs": [
    {
     "data": {
      "text/html": [
       "<div>\n",
       "<style scoped>\n",
       "    .dataframe tbody tr th:only-of-type {\n",
       "        vertical-align: middle;\n",
       "    }\n",
       "\n",
       "    .dataframe tbody tr th {\n",
       "        vertical-align: top;\n",
       "    }\n",
       "\n",
       "    .dataframe thead th {\n",
       "        text-align: right;\n",
       "    }\n",
       "</style>\n",
       "<table border=\"1\" class=\"dataframe\">\n",
       "  <thead>\n",
       "    <tr style=\"text-align: right;\">\n",
       "      <th></th>\n",
       "      <th>Agency</th>\n",
       "      <th>Agency Type</th>\n",
       "      <th>Distribution Channel</th>\n",
       "      <th>Product Name</th>\n",
       "      <th>Claim</th>\n",
       "      <th>Duration</th>\n",
       "      <th>Destination</th>\n",
       "      <th>Net Sales</th>\n",
       "      <th>Commision (in value)</th>\n",
       "      <th>Gender</th>\n",
       "      <th>Age</th>\n",
       "    </tr>\n",
       "  </thead>\n",
       "  <tbody>\n",
       "    <tr>\n",
       "      <th>0</th>\n",
       "      <td>CBH</td>\n",
       "      <td>Travel Agency</td>\n",
       "      <td>Offline</td>\n",
       "      <td>Comprehensive Plan</td>\n",
       "      <td>No</td>\n",
       "      <td>186</td>\n",
       "      <td>MALAYSIA</td>\n",
       "      <td>-29.0</td>\n",
       "      <td>9.57</td>\n",
       "      <td>F</td>\n",
       "      <td>81</td>\n",
       "    </tr>\n",
       "    <tr>\n",
       "      <th>1</th>\n",
       "      <td>CBH</td>\n",
       "      <td>Travel Agency</td>\n",
       "      <td>Offline</td>\n",
       "      <td>Comprehensive Plan</td>\n",
       "      <td>No</td>\n",
       "      <td>186</td>\n",
       "      <td>MALAYSIA</td>\n",
       "      <td>-29.0</td>\n",
       "      <td>9.57</td>\n",
       "      <td>F</td>\n",
       "      <td>71</td>\n",
       "    </tr>\n",
       "    <tr>\n",
       "      <th>2</th>\n",
       "      <td>CWT</td>\n",
       "      <td>Travel Agency</td>\n",
       "      <td>Online</td>\n",
       "      <td>Rental Vehicle Excess Insurance</td>\n",
       "      <td>No</td>\n",
       "      <td>65</td>\n",
       "      <td>AUSTRALIA</td>\n",
       "      <td>-49.5</td>\n",
       "      <td>29.70</td>\n",
       "      <td>NaN</td>\n",
       "      <td>32</td>\n",
       "    </tr>\n",
       "    <tr>\n",
       "      <th>3</th>\n",
       "      <td>CWT</td>\n",
       "      <td>Travel Agency</td>\n",
       "      <td>Online</td>\n",
       "      <td>Rental Vehicle Excess Insurance</td>\n",
       "      <td>No</td>\n",
       "      <td>60</td>\n",
       "      <td>AUSTRALIA</td>\n",
       "      <td>-39.6</td>\n",
       "      <td>23.76</td>\n",
       "      <td>NaN</td>\n",
       "      <td>32</td>\n",
       "    </tr>\n",
       "    <tr>\n",
       "      <th>4</th>\n",
       "      <td>CWT</td>\n",
       "      <td>Travel Agency</td>\n",
       "      <td>Online</td>\n",
       "      <td>Rental Vehicle Excess Insurance</td>\n",
       "      <td>No</td>\n",
       "      <td>79</td>\n",
       "      <td>ITALY</td>\n",
       "      <td>-19.8</td>\n",
       "      <td>11.88</td>\n",
       "      <td>NaN</td>\n",
       "      <td>41</td>\n",
       "    </tr>\n",
       "  </tbody>\n",
       "</table>\n",
       "</div>"
      ],
      "text/plain": [
       "  Agency    Agency Type Distribution Channel                     Product Name  \\\n",
       "0    CBH  Travel Agency              Offline               Comprehensive Plan   \n",
       "1    CBH  Travel Agency              Offline               Comprehensive Plan   \n",
       "2    CWT  Travel Agency               Online  Rental Vehicle Excess Insurance   \n",
       "3    CWT  Travel Agency               Online  Rental Vehicle Excess Insurance   \n",
       "4    CWT  Travel Agency               Online  Rental Vehicle Excess Insurance   \n",
       "\n",
       "  Claim  Duration Destination  Net Sales  Commision (in value) Gender  Age  \n",
       "0    No       186    MALAYSIA      -29.0                  9.57      F   81  \n",
       "1    No       186    MALAYSIA      -29.0                  9.57      F   71  \n",
       "2    No        65   AUSTRALIA      -49.5                 29.70    NaN   32  \n",
       "3    No        60   AUSTRALIA      -39.6                 23.76    NaN   32  \n",
       "4    No        79       ITALY      -19.8                 11.88    NaN   41  "
      ]
     },
     "execution_count": 36,
     "metadata": {},
     "output_type": "execute_result"
    }
   ],
   "source": [
    "travel_insurance_df.head()"
   ]
  },
  {
   "cell_type": "code",
   "execution_count": null,
   "metadata": {},
   "outputs": [],
   "source": [
    "travel_insurance_df.info()"
   ]
  },
  {
   "cell_type": "code",
   "execution_count": null,
   "metadata": {},
   "outputs": [],
   "source": [
    "travel_insurance_df.isnull().sum()"
   ]
  },
  {
   "cell_type": "markdown",
   "metadata": {},
   "source": [
    "Describe numerical values:"
   ]
  },
  {
   "cell_type": "code",
   "execution_count": null,
   "metadata": {},
   "outputs": [],
   "source": [
    "print('Duration:')\n",
    "print(travel_insurance_df['Duration'].describe())\n",
    "print()\n",
    "print('Commision (in value):')\n",
    "print(travel_insurance_df['Commision (in value)'].describe())\n",
    "print()\n",
    "print('Age:')\n",
    "print(travel_insurance_df['Age'].describe())"
   ]
  },
  {
   "cell_type": "code",
   "execution_count": 37,
   "metadata": {},
   "outputs": [
    {
     "data": {
      "image/png": "[encoded data removed]",
      "text/plain": [
       "<Figure size 640x480 with 1 Axes>"
      ]
     },
     "metadata": {},
     "output_type": "display_data"
    },
    {
     "data": {
      "image/png": "[encoded data removed]",
      "text/plain": [
       "<Figure size 640x480 with 1 Axes>"
      ]
     },
     "metadata": {},
     "output_type": "display_data"
    },
    {
     "data": {
      "image/png": "[encoded data removed]",
      "text/plain": [
       "<Figure size 640x480 with 1 Axes>"
      ]
     },
     "metadata": {},
     "output_type": "display_data"
    },
    {
     "data": {
      "image/png": "[encoded data removed]",
      "text/plain": [
       "<Figure size 640x480 with 1 Axes>"
      ]
     },
     "metadata": {},
     "output_type": "display_data"
    }
   ],
   "source": [
    "travel_insurance_sub = travel_insurance_df[['Duration', 'Net Sales', 'Commision (in value)', 'Age']]\n",
    "for i, col in enumerate(travel_insurance_sub):\n",
    "    plt.figure(i)\n",
    "    sns.distplot(travel_insurance_sub[col])"
   ]
  },
  {
   "cell_type": "markdown",
   "metadata": {},
   "source": [
    "Duration: Drop rows with negative values"
   ]
  },
  {
   "cell_type": "code",
   "execution_count": null,
   "metadata": {},
   "outputs": [],
   "source": [
    "len(travel_insurance_df[travel_insurance_df['Duration']<0])"
   ]
  },
  {
   "cell_type": "code",
   "execution_count": 38,
   "metadata": {},
   "outputs": [
    {
     "data": {
      "text/plain": [
       "(63321, 11)"
      ]
     },
     "execution_count": 38,
     "metadata": {},
     "output_type": "execute_result"
    }
   ],
   "source": [
    "index_neg_duration = travel_insurance_df[travel_insurance_df['Duration']<0].index\n",
    "travel_insurance_df.drop(index_neg_duration, inplace=True)\n",
    "travel_insurance_df = travel_insurance_df.reset_index().drop(labels='index', axis=1)\n",
    "travel_insurance_df.shape"
   ]
  },
  {
   "cell_type": "markdown",
   "metadata": {},
   "source": [
    "Duration: Drop rows with extremely high values (upward outliers)"
   ]
  },
  {
   "cell_type": "code",
   "execution_count": 39,
   "metadata": {},
   "outputs": [
    {
     "data": {
      "text/plain": [
       "4881    1\n",
       "4857    1\n",
       "4847    1\n",
       "4844    1\n",
       "4831    1\n",
       "4829    1\n",
       "4815    1\n",
       "4784    1\n",
       "4738    1\n",
       "4736    1\n",
       "4685    1\n",
       "4652    1\n",
       "4609    1\n",
       "4580    1\n",
       "740     1\n",
       "547     1\n",
       "545     1\n",
       "531     1\n",
       "529     2\n",
       "519     1\n",
       "512     1\n",
       "508     2\n",
       "497     1\n",
       "494     1\n",
       "490     1\n",
       "488     1\n",
       "487     1\n",
       "478     1\n",
       "474     1\n",
       "472     2\n",
       "466     3\n",
       "465     1\n",
       "463     2\n",
       "461     1\n",
       "459     1\n",
       "457     2\n",
       "456     2\n",
       "450     1\n",
       "448     2\n",
       "445     1\n",
       "Name: Duration, dtype: int64"
      ]
     },
     "execution_count": 39,
     "metadata": {},
     "output_type": "execute_result"
    }
   ],
   "source": [
    "pd.set_option('display.max_rows', 50)\n",
    "travel_insurance_df['Duration'].value_counts().sort_index(ascending = False).head(40)"
   ]
  },
  {
   "cell_type": "code",
   "execution_count": 40,
   "metadata": {},
   "outputs": [],
   "source": [
    "index_high_duration = travel_insurance_df[travel_insurance_df['Duration']>500].index\n",
    "travel_insurance_df.drop(index_high_duration, inplace=True)\n",
    "travel_insurance_df = travel_insurance_df.reset_index().drop(labels='index', axis=1)"
   ]
  },
  {
   "cell_type": "code",
   "execution_count": null,
   "metadata": {},
   "outputs": [],
   "source": [
    "travel_insurance_df.shape"
   ]
  },
  {
   "cell_type": "code",
   "execution_count": 41,
   "metadata": {},
   "outputs": [
    {
     "data": {
      "text/plain": [
       "118    979\n",
       "88       4\n",
       "87       8\n",
       "86       4\n",
       "85       9\n",
       "84      20\n",
       "83      18\n",
       "82      17\n",
       "81      23\n",
       "80      21\n",
       "Name: Age, dtype: int64"
      ]
     },
     "execution_count": 41,
     "metadata": {},
     "output_type": "execute_result"
    }
   ],
   "source": [
    "travel_insurance_df['Age'].value_counts().sort_index(ascending = False).head(10)"
   ]
  },
  {
   "cell_type": "markdown",
   "metadata": {},
   "source": [
    "Upward outliers in age (118) will be replaced by next best \"realistic\" value (88), effectively introducing an age cap at 88"
   ]
  },
  {
   "cell_type": "code",
   "execution_count": 42,
   "metadata": {},
   "outputs": [],
   "source": [
    "travel_insurance_df['Age'] = np.where(travel_insurance_df['Age'] == 118, 88, travel_insurance_df['Age'])"
   ]
  },
  {
   "cell_type": "markdown",
   "metadata": {},
   "source": [
    "Replace NAs (only in Gender column) by string 'UNKNOWN'"
   ]
  },
  {
   "cell_type": "code",
   "execution_count": 43,
   "metadata": {},
   "outputs": [
    {
     "data": {
      "text/plain": [
       "45089"
      ]
     },
     "execution_count": 43,
     "metadata": {},
     "output_type": "execute_result"
    }
   ],
   "source": [
    "travel_insurance_df.Gender.isna().sum()"
   ]
  },
  {
   "cell_type": "code",
   "execution_count": 44,
   "metadata": {},
   "outputs": [],
   "source": [
    "travel_insurance_df.fillna('UNKNOWN',inplace=True)"
   ]
  },
  {
   "cell_type": "code",
   "execution_count": null,
   "metadata": {},
   "outputs": [],
   "source": [
    "##Remove rows with missing data:\n",
    "#travel_insurance_df = travel_insurance_df.dropna()\n",
    "#travel_insurance_df = travel_insurance_df.reset_index().drop(labels='index', axis=1)"
   ]
  },
  {
   "cell_type": "markdown",
   "metadata": {},
   "source": [
    "Overview over data:"
   ]
  },
  {
   "cell_type": "code",
   "execution_count": null,
   "metadata": {},
   "outputs": [],
   "source": [
    "no_instances = travel_insurance_df.shape[0]\n",
    "no_features = len(travel_insurance_df.columns) - 1\n",
    "target_shares = round(travel_insurance_df['Claim'].value_counts()/len(travel_insurance_df),3)\n",
    "print(\"No. of instances: \" + f\"{no_instances:,}\")\n",
    "print(\"No. of columns: \" + str(no_features))\n",
    "print(\"Share of targets: \\n\" + str(target_shares))\n",
    "travel_insurance_df.head()"
   ]
  },
  {
   "cell_type": "code",
   "execution_count": null,
   "metadata": {},
   "outputs": [],
   "source": [
    "## Pie chart\n",
    "#count_agency = pd.DataFrame(travel_insurance_df['Agency'].value_counts())\n",
    "#count_agency['Count'] = count_agency['Agency']\n",
    "#count_agency['Agency'] = count_agency.index\n",
    "#count_agency.reset_index(inplace=True)\n",
    "#count_agency.drop(columns='index', inplace=True)\n",
    "#count_agency.groupby(['Agency']).sum().plot(kind='pie', y='Count', autopct='%1.0f%%', title='Points Scored by Team')"
   ]
  },
  {
   "cell_type": "code",
   "execution_count": 45,
   "metadata": {},
   "outputs": [
    {
     "name": "stdout",
     "output_type": "stream",
     "text": [
      "   Agency  Count  Share (in %)\n",
      "0     EPX  35119         55.48\n",
      "1     CWT   8580         13.56\n",
      "2     C2B   8260         13.05\n",
      "3     JZI   6324          9.99\n",
      "4     SSI   1042          1.65\n",
      "5     JWT    749          1.18\n",
      "6     RAB    725          1.15\n",
      "7     LWC    686          1.08\n",
      "8     TST    528          0.83\n",
      "9     KML    392          0.62\n",
      "10    ART    331          0.52\n",
      "11    CCR    194          0.31\n",
      "12    CBH    101          0.16\n",
      "13    TTW     98          0.15\n",
      "14    CSR     86          0.14\n",
      "15    ADM     82          0.13\n",
      "\n",
      "     Agency Type  Count  Share (in %)\n",
      "0  Travel Agency  45866         72.46\n",
      "1       Airlines  17431         27.54\n",
      "\n",
      "  Distribution Channel  Count  Share (in %)\n",
      "0               Online  62190         98.25\n",
      "1              Offline   1107          1.75\n",
      "\n",
      "                            Product Name  Count  Share (in %)\n",
      "0                      Cancellation Plan  18630         29.43\n",
      "1               2 way Comprehensive Plan  13158         20.79\n",
      "2        Rental Vehicle Excess Insurance   8580         13.56\n",
      "3                             Basic Plan   5464          8.63\n",
      "4                            Bronze Plan   4049          6.40\n",
      "5               1 way Comprehensive Plan   3331          5.26\n",
      "6                             Value Plan   2715          4.29\n",
      "7                            Silver Plan   2249          3.55\n",
      "8                     Annual Silver Plan   1416          2.24\n",
      "9                       Ticket Protector   1042          1.65\n",
      "10                 Travel Cruise Protect    527          0.83\n",
      "11                    Comprehensive Plan    364          0.58\n",
      "12                             Gold Plan    352          0.56\n",
      "13                            24 Protect    247          0.39\n",
      "14       Single Trip Travel Protect Gold    204          0.32\n",
      "15                      Annual Gold Plan    194          0.31\n",
      "16                          Premier Plan    194          0.31\n",
      "17     Single Trip Travel Protect Silver    173          0.27\n",
      "18            Annual Travel Protect Gold     99          0.16\n",
      "19          Annual Travel Protect Silver     84          0.13\n",
      "20         Individual Comprehensive Plan     74          0.12\n",
      "21   Single Trip Travel Protect Platinum     73          0.12\n",
      "22        Annual Travel Protect Platinum     53          0.08\n",
      "23  Spouse or Parents Comprehensive Plan     15          0.02\n",
      "24              Child Comprehensive Plan      9          0.01\n",
      "\n",
      "                  Destination  Count  Share (in %)\n",
      "0                   SINGAPORE  13234         20.91\n",
      "1                    MALAYSIA   5929          9.37\n",
      "2                    THAILAND   5894          9.31\n",
      "3                       CHINA   4795          7.58\n",
      "4                   AUSTRALIA   3694          5.84\n",
      "5                   INDONESIA   3451          5.45\n",
      "6               UNITED STATES   2527          3.99\n",
      "7                 PHILIPPINES   2490          3.93\n",
      "8                   HONG KONG   2411          3.81\n",
      "9                       INDIA   2251          3.56\n",
      "10                      JAPAN   2061          3.26\n",
      "11                   VIET NAM   1669          2.64\n",
      "12         KOREA, REPUBLIC OF   1479          2.34\n",
      "13             UNITED KINGDOM   1309          2.07\n",
      "14  TAIWAN, PROVINCE OF CHINA   1090          1.72\n",
      "15                    MYANMAR    806          1.27\n",
      "16          BRUNEI DARUSSALAM    779          1.23\n",
      "17                NEW ZEALAND    537          0.85\n",
      "18                     CANADA    528          0.83\n",
      "19                   CAMBODIA    493          0.78\n",
      "20                     FRANCE    483          0.76\n",
      "21                    GERMANY    456          0.72\n",
      "22                      ITALY    455          0.72\n",
      "23                NETHERLANDS    375          0.59\n",
      "24                      SPAIN    337          0.53\n",
      "\n"
     ]
    }
   ],
   "source": [
    "feat_list = ['Agency', 'Agency Type', 'Distribution Channel', 'Product Name', 'Destination']\n",
    "num_rows = len(travel_insurance_df)\n",
    "for feat in feat_list:\n",
    "    value_counts_df = pd.DataFrame(travel_insurance_df[feat].value_counts())\n",
    "    value_counts_df['Count'] = value_counts_df[feat]\n",
    "    value_counts_df[feat] = value_counts_df.index\n",
    "    value_counts_df.reset_index(inplace=True)\n",
    "    value_counts_df.drop(columns='index', inplace=True)\n",
    "    value_counts_df['Share (in %)'] = round(value_counts_df['Count']/num_rows, 4)*100\n",
    "    print(value_counts_df.head(25))\n",
    "    print()"
   ]
  },
  {
   "cell_type": "markdown",
   "metadata": {},
   "source": [
    "### (1-c) Prep data & save on Jupyter NB instance"
   ]
  },
  {
   "cell_type": "markdown",
   "metadata": {},
   "source": [
    "Recode target ('Claim') into numerical variable:"
   ]
  },
  {
   "cell_type": "code",
   "execution_count": 46,
   "metadata": {},
   "outputs": [],
   "source": [
    "dict_label = {'Yes' : 1, 'No' : 0}\n",
    "travel_insurance_df['Claim'] = travel_insurance_df['Claim'].replace(dict_label)"
   ]
  },
  {
   "cell_type": "markdown",
   "metadata": {},
   "source": [
    "Replace categorical features through one-hot encoding:"
   ]
  },
  {
   "cell_type": "code",
   "execution_count": null,
   "metadata": {},
   "outputs": [],
   "source": [
    "travel_insurance_df.columns"
   ]
  },
  {
   "cell_type": "markdown",
   "metadata": {},
   "source": [
    "Categorical features are transformed into dummy variables. Given the non-ordinal nature of the categorical features ('Agency', 'Agency Type', 'Distribution Channel', 'Product Name', 'Destination', 'Gender') we use one-hot encoding instead of label encoding. The last dummy column of each categorical feature is excluded to avoid perfect collinearity."
   ]
  },
  {
   "cell_type": "code",
   "execution_count": 47,
   "metadata": {},
   "outputs": [],
   "source": [
    "def one_hot(df):\n",
    "    #Function performs one-hot encoding with features of datatype object (string)lit\n",
    "    #Last dummy column of each categorical feature is excluded to avoid perfect collinearity\n",
    "    #NOTE: Categorical features already encoded as integers are NOT identified by this function!\n",
    "    dtypes_ser = df.dtypes\n",
    "    dtypes_df = dtypes_ser.to_frame().reset_index()\n",
    "    dtypes_df = dtypes_df.rename(columns = {'index':'column', 0:'dtype'})\n",
    "    categ_list = list(dtypes_df['column'][dtypes_df['dtype']=='object'])\n",
    "    for feat in categ_list:\n",
    "        one_hot = pd.get_dummies(df[feat], prefix=feat, drop_first=True)\n",
    "        df = df.join(one_hot)\n",
    "        df.drop(feat, inplace=True, axis=1)\n",
    "    return df"
   ]
  },
  {
   "cell_type": "code",
   "execution_count": 48,
   "metadata": {},
   "outputs": [],
   "source": [
    "travel_insurance_df = one_hot(travel_insurance_df)"
   ]
  },
  {
   "cell_type": "code",
   "execution_count": null,
   "metadata": {},
   "outputs": [],
   "source": [
    "travel_insurance_df.info()"
   ]
  },
  {
   "cell_type": "code",
   "execution_count": null,
   "metadata": {},
   "outputs": [],
   "source": [
    "travel_insurance_df.info()"
   ]
  },
  {
   "cell_type": "markdown",
   "metadata": {},
   "source": [
    "Train-test split <br>\n",
    "(Note: test data is without label)"
   ]
  },
  {
   "cell_type": "code",
   "execution_count": 49,
   "metadata": {},
   "outputs": [],
   "source": [
    "travel_insurance_df_train, travel_insurance_df_test = train_test_split(travel_insurance_df, test_size = 0.2, \n",
    "                                                                 stratify = travel_insurance_df['Claim'], \n",
    "                                                                 shuffle = True, \n",
    "                                                                 random_state = 1)\n",
    "travel_insurance_df_test_x = travel_insurance_df_test.drop(labels='Claim', axis = 1)\n",
    "travel_insurance_df_test_y = pd.DataFrame(travel_insurance_df_test['Claim'])"
   ]
  },
  {
   "cell_type": "code",
   "execution_count": 50,
   "metadata": {},
   "outputs": [
    {
     "data": {
      "text/plain": [
       "((50637, 197), (12660, 196))"
      ]
     },
     "execution_count": 50,
     "metadata": {},
     "output_type": "execute_result"
    }
   ],
   "source": [
    "travel_insurance_df_train.shape, travel_insurance_df_test_x.shape"
   ]
  },
  {
   "cell_type": "code",
   "execution_count": null,
   "metadata": {},
   "outputs": [],
   "source": [
    "data_dir = '../ml_eng_capstone/data'\n",
    "if not os.path.exists(data_dir):\n",
    "    os.makedirs(data_dir)"
   ]
  },
  {
   "cell_type": "code",
   "execution_count": null,
   "metadata": {},
   "outputs": [],
   "source": [
    "travel_insurance_df_train.to_csv(data_dir + '/' + 'train.csv', header = False, index = False)\n",
    "travel_insurance_df_test_x.to_csv(data_dir + '/' + 'test.csv', header = False, index = False)\n",
    "travel_insurance_df_test_y.to_csv(data_dir + '/' + 'test_y.csv', header = True, index = False)"
   ]
  },
  {
   "cell_type": "markdown",
   "metadata": {},
   "source": [
    "### (2-a) Create Sagemaker objects"
   ]
  },
  {
   "cell_type": "code",
   "execution_count": 6,
   "metadata": {},
   "outputs": [],
   "source": [
    "sm_session = sagemaker.Session()\n",
    "sm_role = sagemaker.get_execution_role()\n",
    "bucket = sm_session.default_bucket()"
   ]
  },
  {
   "cell_type": "code",
   "execution_count": 7,
   "metadata": {},
   "outputs": [
    {
     "data": {
      "text/plain": [
       "(<sagemaker.session.Session at 0x7ffac92b1c90>,\n",
       " 'arn:aws:iam::821983426621:role/service-role/AmazonSageMaker-ExecutionRole-20220516T003179',\n",
       " 'sagemaker-eu-central-1-821983426621')"
      ]
     },
     "execution_count": 7,
     "metadata": {},
     "output_type": "execute_result"
    }
   ],
   "source": [
    "sm_session, sm_role, bucket"
   ]
  },
  {
   "cell_type": "code",
   "execution_count": 8,
   "metadata": {},
   "outputs": [],
   "source": [
    "prefix = 'travel_insurance_claim_data'"
   ]
  },
  {
   "cell_type": "markdown",
   "metadata": {},
   "source": [
    "### (2-b) Load train and test data to S3"
   ]
  },
  {
   "cell_type": "code",
   "execution_count": 10,
   "metadata": {},
   "outputs": [],
   "source": [
    "data_dir = '../ml_eng_capstone/data'\n",
    "train_path_s3 = sm_session.upload_data(os.path.join(data_dir, 'train.csv'), key_prefix=prefix)\n",
    "test_path_s3 = sm_session.upload_data(os.path.join(data_dir, 'test.csv'), key_prefix=prefix)"
   ]
  },
  {
   "cell_type": "code",
   "execution_count": 11,
   "metadata": {},
   "outputs": [
    {
     "data": {
      "text/plain": [
       "[s3.ObjectSummary(bucket_name='sagemaker-eu-central-1-821983426621', key='sagemaker-scikit-learn-2022-11-13-20-35-15-834/source/sourcedir.tar.gz'),\n",
       " s3.ObjectSummary(bucket_name='sagemaker-eu-central-1-821983426621', key='travel_insurance_claim_data/output/sagemaker-scikit-learn-2022-11-13-20-35-15-834/debug-output/training_job_end.ts'),\n",
       " s3.ObjectSummary(bucket_name='sagemaker-eu-central-1-821983426621', key='travel_insurance_claim_data/output/sagemaker-scikit-learn-2022-11-13-20-35-15-834/output/model.tar.gz'),\n",
       " s3.ObjectSummary(bucket_name='sagemaker-eu-central-1-821983426621', key='travel_insurance_claim_data/output/sagemaker-scikit-learn-2022-11-13-20-35-15-834/profiler-output/framework/training_job_end.ts'),\n",
       " s3.ObjectSummary(bucket_name='sagemaker-eu-central-1-821983426621', key='travel_insurance_claim_data/output/sagemaker-scikit-learn-2022-11-13-20-35-15-834/profiler-output/system/incremental/2022111320/1668371820.algo-1.json'),\n",
       " s3.ObjectSummary(bucket_name='sagemaker-eu-central-1-821983426621', key='travel_insurance_claim_data/output/sagemaker-scikit-learn-2022-11-13-20-35-15-834/profiler-output/system/incremental/2022111320/1668371880.algo-1.json'),\n",
       " s3.ObjectSummary(bucket_name='sagemaker-eu-central-1-821983426621', key='travel_insurance_claim_data/output/sagemaker-scikit-learn-2022-11-13-20-35-15-834/profiler-output/system/training_job_end.ts'),\n",
       " s3.ObjectSummary(bucket_name='sagemaker-eu-central-1-821983426621', key='travel_insurance_claim_data/output/sagemaker-scikit-learn-2022-11-13-20-35-15-834/rule-output/ProfilerReport-1668371716/profiler-output/profiler-report.html'),\n",
       " s3.ObjectSummary(bucket_name='sagemaker-eu-central-1-821983426621', key='travel_insurance_claim_data/output/sagemaker-scikit-learn-2022-11-13-20-35-15-834/rule-output/ProfilerReport-1668371716/profiler-output/profiler-report.ipynb'),\n",
       " s3.ObjectSummary(bucket_name='sagemaker-eu-central-1-821983426621', key='travel_insurance_claim_data/output/sagemaker-scikit-learn-2022-11-13-20-35-15-834/rule-output/ProfilerReport-1668371716/profiler-output/profiler-reports/BatchSize.json'),\n",
       " s3.ObjectSummary(bucket_name='sagemaker-eu-central-1-821983426621', key='travel_insurance_claim_data/output/sagemaker-scikit-learn-2022-11-13-20-35-15-834/rule-output/ProfilerReport-1668371716/profiler-output/profiler-reports/CPUBottleneck.json'),\n",
       " s3.ObjectSummary(bucket_name='sagemaker-eu-central-1-821983426621', key='travel_insurance_claim_data/output/sagemaker-scikit-learn-2022-11-13-20-35-15-834/rule-output/ProfilerReport-1668371716/profiler-output/profiler-reports/Dataloader.json'),\n",
       " s3.ObjectSummary(bucket_name='sagemaker-eu-central-1-821983426621', key='travel_insurance_claim_data/output/sagemaker-scikit-learn-2022-11-13-20-35-15-834/rule-output/ProfilerReport-1668371716/profiler-output/profiler-reports/GPUMemoryIncrease.json'),\n",
       " s3.ObjectSummary(bucket_name='sagemaker-eu-central-1-821983426621', key='travel_insurance_claim_data/output/sagemaker-scikit-learn-2022-11-13-20-35-15-834/rule-output/ProfilerReport-1668371716/profiler-output/profiler-reports/IOBottleneck.json'),\n",
       " s3.ObjectSummary(bucket_name='sagemaker-eu-central-1-821983426621', key='travel_insurance_claim_data/output/sagemaker-scikit-learn-2022-11-13-20-35-15-834/rule-output/ProfilerReport-1668371716/profiler-output/profiler-reports/LoadBalancing.json'),\n",
       " s3.ObjectSummary(bucket_name='sagemaker-eu-central-1-821983426621', key='travel_insurance_claim_data/output/sagemaker-scikit-learn-2022-11-13-20-35-15-834/rule-output/ProfilerReport-1668371716/profiler-output/profiler-reports/LowGPUUtilization.json'),\n",
       " s3.ObjectSummary(bucket_name='sagemaker-eu-central-1-821983426621', key='travel_insurance_claim_data/output/sagemaker-scikit-learn-2022-11-13-20-35-15-834/rule-output/ProfilerReport-1668371716/profiler-output/profiler-reports/MaxInitializationTime.json'),\n",
       " s3.ObjectSummary(bucket_name='sagemaker-eu-central-1-821983426621', key='travel_insurance_claim_data/output/sagemaker-scikit-learn-2022-11-13-20-35-15-834/rule-output/ProfilerReport-1668371716/profiler-output/profiler-reports/OverallFrameworkMetrics.json'),\n",
       " s3.ObjectSummary(bucket_name='sagemaker-eu-central-1-821983426621', key='travel_insurance_claim_data/output/sagemaker-scikit-learn-2022-11-13-20-35-15-834/rule-output/ProfilerReport-1668371716/profiler-output/profiler-reports/OverallSystemUsage.json'),\n",
       " s3.ObjectSummary(bucket_name='sagemaker-eu-central-1-821983426621', key='travel_insurance_claim_data/output/sagemaker-scikit-learn-2022-11-13-20-35-15-834/rule-output/ProfilerReport-1668371716/profiler-output/profiler-reports/StepOutlier.json'),\n",
       " s3.ObjectSummary(bucket_name='sagemaker-eu-central-1-821983426621', key='travel_insurance_claim_data/test.csv'),\n",
       " s3.ObjectSummary(bucket_name='sagemaker-eu-central-1-821983426621', key='travel_insurance_claim_data/train.csv')]"
      ]
     },
     "execution_count": 11,
     "metadata": {},
     "output_type": "execute_result"
    }
   ],
   "source": [
    "# Overview on files on S3\n",
    "bucket_list = []\n",
    "for i in boto3.resource('s3').Bucket(bucket).objects.all():\n",
    "    bucket_list.append(i)\n",
    "bucket_list"
   ]
  },
  {
   "cell_type": "code",
   "execution_count": null,
   "metadata": {},
   "outputs": [],
   "source": [
    "#Delete data files in s3://sagemaker-us-east-1-786251868139/travel_insurance_claim_data/\n",
    "#boto3.resource('s3').Bucket(bucket).objects.all().delete()"
   ]
  },
  {
   "cell_type": "markdown",
   "metadata": {},
   "source": [
    "### (3-a)\tTrain Random Forest w custom scikit-learn estimator - baseline"
   ]
  },
  {
   "cell_type": "code",
   "execution_count": null,
   "metadata": {},
   "outputs": [],
   "source": [
    "!pygmentize source/train_rf.py"
   ]
  },
  {
   "cell_type": "code",
   "execution_count": 13,
   "metadata": {},
   "outputs": [],
   "source": [
    "est_rf_base = SKLearn(entry_point = 'train_rf.py',\n",
    "                       source_dir = 'source',\n",
    "                       role = sm_role,\n",
    "                       framework_version = '0.23-1',\n",
    "                       py_version = 'py3',\n",
    "                       instance_count = 1,\n",
    "                       instance_type = 'ml.m4.xlarge',\n",
    "                       output_path = 's3://{}/{}/output'.format(bucket, prefix),\n",
    "                       sagemaker_session = sm_session\n",
    "                       #hyperparameters = {'n_estimators':100, 'min_samples_split':2, 'min_samples_leaf':1, 'max_depth':None, 'max_leaf_nodes':None}\n",
    "                     )"
   ]
  },
  {
   "cell_type": "code",
   "execution_count": 14,
   "metadata": {},
   "outputs": [
    {
     "name": "stdout",
     "output_type": "stream",
     "text": [
      "2022-11-14 08:15:05 Starting - Starting the training job...ProfilerReport-1668413704: InProgress\n",
      "...\n",
      "2022-11-14 08:15:58 Starting - Preparing the instances for training.........\n",
      "2022-11-14 08:17:31 Downloading - Downloading input data.....\u001b[34m2022-11-14 08:18:18,198 sagemaker-containers INFO     Imported framework sagemaker_sklearn_container.training\u001b[0m\n",
      "\u001b[34m2022-11-14 08:18:18,201 sagemaker-training-toolkit INFO     No GPUs detected (normal if no gpus installed)\u001b[0m\n",
      "\u001b[34m2022-11-14 08:18:18,212 sagemaker_sklearn_container.training INFO     Invoking user training script.\u001b[0m\n",
      "\u001b[34m2022-11-14 08:18:18,420 sagemaker-training-toolkit INFO     No GPUs detected (normal if no gpus installed)\u001b[0m\n",
      "\u001b[34m2022-11-14 08:18:18,435 sagemaker-training-toolkit INFO     No GPUs detected (normal if no gpus installed)\u001b[0m\n",
      "\u001b[34m2022-11-14 08:18:18,449 sagemaker-training-toolkit INFO     No GPUs detected (normal if no gpus installed)\u001b[0m\n",
      "\u001b[34m2022-11-14 08:18:18,459 sagemaker-training-toolkit INFO     Invoking user script\u001b[0m\n",
      "\u001b[34mTraining Env:\u001b[0m\n",
      "\u001b[34m{\n",
      "    \"additional_framework_parameters\": {},\n",
      "    \"channel_input_dirs\": {\n",
      "        \"train\": \"/opt/ml/input/data/train\"\n",
      "    },\n",
      "    \"current_host\": \"algo-1\",\n",
      "    \"framework_module\": \"sagemaker_sklearn_container.training:main\",\n",
      "    \"hosts\": [\n",
      "        \"algo-1\"\n",
      "    ],\n",
      "    \"hyperparameters\": {},\n",
      "    \"input_config_dir\": \"/opt/ml/input/config\",\n",
      "    \"input_data_config\": {\n",
      "        \"train\": {\n",
      "            \"TrainingInputMode\": \"File\",\n",
      "            \"S3DistributionType\": \"FullyReplicated\",\n",
      "            \"RecordWrapperType\": \"None\"\n",
      "        }\n",
      "    },\n",
      "    \"input_dir\": \"/opt/ml/input\",\n",
      "    \"is_master\": true,\n",
      "    \"job_name\": \"sagemaker-scikit-learn-2022-11-14-08-15-04-646\",\n",
      "    \"log_level\": 20,\n",
      "    \"master_hostname\": \"algo-1\",\n",
      "    \"model_dir\": \"/opt/ml/model\",\n",
      "    \"module_dir\": \"s3://sagemaker-eu-central-1-821983426621/sagemaker-scikit-learn-2022-11-14-08-15-04-646/source/sourcedir.tar.gz\",\n",
      "    \"module_name\": \"train_rf\",\n",
      "    \"network_interface_name\": \"eth0\",\n",
      "    \"num_cpus\": 4,\n",
      "    \"num_gpus\": 0,\n",
      "    \"output_data_dir\": \"/opt/ml/output/data\",\n",
      "    \"output_dir\": \"/opt/ml/output\",\n",
      "    \"output_intermediate_dir\": \"/opt/ml/output/intermediate\",\n",
      "    \"resource_config\": {\n",
      "        \"current_host\": \"algo-1\",\n",
      "        \"current_instance_type\": \"ml.m4.xlarge\",\n",
      "        \"current_group_name\": \"homogeneousCluster\",\n",
      "        \"hosts\": [\n",
      "            \"algo-1\"\n",
      "        ],\n",
      "        \"instance_groups\": [\n",
      "            {\n",
      "                \"instance_group_name\": \"homogeneousCluster\",\n",
      "                \"instance_type\": \"ml.m4.xlarge\",\n",
      "                \"hosts\": [\n",
      "                    \"algo-1\"\n",
      "                ]\n",
      "            }\n",
      "        ],\n",
      "        \"network_interface_name\": \"eth0\"\n",
      "    },\n",
      "    \"user_entry_point\": \"train_rf.py\"\u001b[0m\n",
      "\u001b[34m}\u001b[0m\n",
      "\u001b[34mEnvironment variables:\u001b[0m\n",
      "\u001b[34mSM_HOSTS=[\"algo-1\"]\u001b[0m\n",
      "\u001b[34mSM_NETWORK_INTERFACE_NAME=eth0\u001b[0m\n",
      "\u001b[34mSM_HPS={}\u001b[0m\n",
      "\u001b[34mSM_USER_ENTRY_POINT=train_rf.py\u001b[0m\n",
      "\u001b[34mSM_FRAMEWORK_PARAMS={}\u001b[0m\n",
      "\u001b[34mSM_RESOURCE_CONFIG={\"current_group_name\":\"homogeneousCluster\",\"current_host\":\"algo-1\",\"current_instance_type\":\"ml.m4.xlarge\",\"hosts\":[\"algo-1\"],\"instance_groups\":[{\"hosts\":[\"algo-1\"],\"instance_group_name\":\"homogeneousCluster\",\"instance_type\":\"ml.m4.xlarge\"}],\"network_interface_name\":\"eth0\"}\u001b[0m\n",
      "\u001b[34mSM_INPUT_DATA_CONFIG={\"train\":{\"RecordWrapperType\":\"None\",\"S3DistributionType\":\"FullyReplicated\",\"TrainingInputMode\":\"File\"}}\u001b[0m\n",
      "\u001b[34mSM_OUTPUT_DATA_DIR=/opt/ml/output/data\u001b[0m\n",
      "\u001b[34mSM_CHANNELS=[\"train\"]\u001b[0m\n",
      "\u001b[34mSM_CURRENT_HOST=algo-1\u001b[0m\n",
      "\u001b[34mSM_MODULE_NAME=train_rf\u001b[0m\n",
      "\u001b[34mSM_LOG_LEVEL=20\u001b[0m\n",
      "\u001b[34mSM_FRAMEWORK_MODULE=sagemaker_sklearn_container.training:main\u001b[0m\n",
      "\u001b[34mSM_INPUT_DIR=/opt/ml/input\u001b[0m\n",
      "\u001b[34mSM_INPUT_CONFIG_DIR=/opt/ml/input/config\u001b[0m\n",
      "\u001b[34mSM_OUTPUT_DIR=/opt/ml/output\u001b[0m\n",
      "\u001b[34mSM_NUM_CPUS=4\u001b[0m\n",
      "\u001b[34mSM_NUM_GPUS=0\u001b[0m\n",
      "\u001b[34mSM_MODEL_DIR=/opt/ml/model\u001b[0m\n",
      "\u001b[34mSM_MODULE_DIR=s3://sagemaker-eu-central-1-821983426621/sagemaker-scikit-learn-2022-11-14-08-15-04-646/source/sourcedir.tar.gz\u001b[0m\n",
      "\u001b[34mSM_TRAINING_ENV={\"additional_framework_parameters\":{},\"channel_input_dirs\":{\"train\":\"/opt/ml/input/data/train\"},\"current_host\":\"algo-1\",\"framework_module\":\"sagemaker_sklearn_container.training:main\",\"hosts\":[\"algo-1\"],\"hyperparameters\":{},\"input_config_dir\":\"/opt/ml/input/config\",\"input_data_config\":{\"train\":{\"RecordWrapperType\":\"None\",\"S3DistributionType\":\"FullyReplicated\",\"TrainingInputMode\":\"File\"}},\"input_dir\":\"/opt/ml/input\",\"is_master\":true,\"job_name\":\"sagemaker-scikit-learn-2022-11-14-08-15-04-646\",\"log_level\":20,\"master_hostname\":\"algo-1\",\"model_dir\":\"/opt/ml/model\",\"module_dir\":\"s3://sagemaker-eu-central-1-821983426621/sagemaker-scikit-learn-2022-11-14-08-15-04-646/source/sourcedir.tar.gz\",\"module_name\":\"train_rf\",\"network_interface_name\":\"eth0\",\"num_cpus\":4,\"num_gpus\":0,\"output_data_dir\":\"/opt/ml/output/data\",\"output_dir\":\"/opt/ml/output\",\"output_intermediate_dir\":\"/opt/ml/output/intermediate\",\"resource_config\":{\"current_group_name\":\"homogeneousCluster\",\"current_host\":\"algo-1\",\"current_instance_type\":\"ml.m4.xlarge\",\"hosts\":[\"algo-1\"],\"instance_groups\":[{\"hosts\":[\"algo-1\"],\"instance_group_name\":\"homogeneousCluster\",\"instance_type\":\"ml.m4.xlarge\"}],\"network_interface_name\":\"eth0\"},\"user_entry_point\":\"train_rf.py\"}\u001b[0m\n",
      "\u001b[34mSM_USER_ARGS=[]\u001b[0m\n",
      "\u001b[34mSM_OUTPUT_INTERMEDIATE_DIR=/opt/ml/output/intermediate\u001b[0m\n",
      "\u001b[34mSM_CHANNEL_TRAIN=/opt/ml/input/data/train\u001b[0m\n",
      "\u001b[34mPYTHONPATH=/opt/ml/code:/miniconda3/bin:/miniconda3/lib/python37.zip:/miniconda3/lib/python3.7:/miniconda3/lib/python3.7/lib-dynload:/miniconda3/lib/python3.7/site-packages\u001b[0m\n",
      "\u001b[34mInvoking script with the following command:\u001b[0m\n",
      "\u001b[34m/miniconda3/bin/python train_rf.py\u001b[0m\n",
      "\n",
      "2022-11-14 08:18:27 Training - Training image download completed. Training in progress.\n",
      "2022-11-14 08:18:27 Uploading - Uploading generated training model\u001b[34m2022-11-14 08:18:27,255 sagemaker-containers INFO     Reporting training SUCCESS\u001b[0m\n",
      "\n",
      "2022-11-14 08:18:59 Completed - Training job completed\n",
      "Training seconds: 72\n",
      "Billable seconds: 72\n"
     ]
    }
   ],
   "source": [
    "est_rf_base.fit({'train' : train_path_s3})"
   ]
  },
  {
   "cell_type": "markdown",
   "metadata": {},
   "source": [
    "### (3-b)\tTrain SVM w custom scikit-learn estimator - baseline"
   ]
  },
  {
   "cell_type": "code",
   "execution_count": 18,
   "metadata": {},
   "outputs": [],
   "source": [
    "### (3-b) Train XGBOOST model with SageMaker in-built algorithm (baseline B)"
   ]
  },
  {
   "cell_type": "code",
   "execution_count": 15,
   "metadata": {},
   "outputs": [],
   "source": [
    "est_svm_base = SKLearn(entry_point = 'train_svm.py',\n",
    "                       source_dir = 'source',\n",
    "                       role = sm_role,\n",
    "                       framework_version = '0.23-1',\n",
    "                       py_version = 'py3',\n",
    "                       instance_count = 1,\n",
    "                       instance_type = 'ml.m4.xlarge',\n",
    "                       output_path = 's3://{}/{}/output'.format(bucket, prefix),\n",
    "                       sagemaker_session = sm_session\n",
    "                       #hyperparameters = {'C':1, 'gamma':0.01}\n",
    "                     )"
   ]
  },
  {
   "cell_type": "code",
   "execution_count": 16,
   "metadata": {},
   "outputs": [
    {
     "name": "stdout",
     "output_type": "stream",
     "text": [
      "2022-11-14 08:20:47 Starting - Starting the training job...\n",
      "2022-11-14 08:21:12 Starting - Preparing the instances for trainingProfilerReport-1668414046: InProgress\n",
      "............\n",
      "2022-11-14 08:23:11 Downloading - Downloading input data...\n",
      "2022-11-14 08:23:32 Training - Training image download completed. Training in progress.\u001b[34m2022-11-14 08:23:36,933 sagemaker-containers INFO     Imported framework sagemaker_sklearn_container.training\u001b[0m\n",
      "\u001b[34m2022-11-14 08:23:36,936 sagemaker-training-toolkit INFO     No GPUs detected (normal if no gpus installed)\u001b[0m\n",
      "\u001b[34m2022-11-14 08:23:36,947 sagemaker_sklearn_container.training INFO     Invoking user training script.\u001b[0m\n",
      "\u001b[34m2022-11-14 08:23:37,143 sagemaker-training-toolkit INFO     No GPUs detected (normal if no gpus installed)\u001b[0m\n",
      "\u001b[34m2022-11-14 08:23:37,156 sagemaker-training-toolkit INFO     No GPUs detected (normal if no gpus installed)\u001b[0m\n",
      "\u001b[34m2022-11-14 08:23:37,169 sagemaker-training-toolkit INFO     No GPUs detected (normal if no gpus installed)\u001b[0m\n",
      "\u001b[34m2022-11-14 08:23:37,180 sagemaker-training-toolkit INFO     Invoking user script\u001b[0m\n",
      "\u001b[34mTraining Env:\u001b[0m\n",
      "\u001b[34m{\n",
      "    \"additional_framework_parameters\": {},\n",
      "    \"channel_input_dirs\": {\n",
      "        \"train\": \"/opt/ml/input/data/train\"\n",
      "    },\n",
      "    \"current_host\": \"algo-1\",\n",
      "    \"framework_module\": \"sagemaker_sklearn_container.training:main\",\n",
      "    \"hosts\": [\n",
      "        \"algo-1\"\n",
      "    ],\n",
      "    \"hyperparameters\": {},\n",
      "    \"input_config_dir\": \"/opt/ml/input/config\",\n",
      "    \"input_data_config\": {\n",
      "        \"train\": {\n",
      "            \"TrainingInputMode\": \"File\",\n",
      "            \"S3DistributionType\": \"FullyReplicated\",\n",
      "            \"RecordWrapperType\": \"None\"\n",
      "        }\n",
      "    },\n",
      "    \"input_dir\": \"/opt/ml/input\",\n",
      "    \"is_master\": true,\n",
      "    \"job_name\": \"sagemaker-scikit-learn-2022-11-14-08-20-46-766\",\n",
      "    \"log_level\": 20,\n",
      "    \"master_hostname\": \"algo-1\",\n",
      "    \"model_dir\": \"/opt/ml/model\",\n",
      "    \"module_dir\": \"s3://sagemaker-eu-central-1-821983426621/sagemaker-scikit-learn-2022-11-14-08-20-46-766/source/sourcedir.tar.gz\",\n",
      "    \"module_name\": \"train_svm\",\n",
      "    \"network_interface_name\": \"eth0\",\n",
      "    \"num_cpus\": 4,\n",
      "    \"num_gpus\": 0,\n",
      "    \"output_data_dir\": \"/opt/ml/output/data\",\n",
      "    \"output_dir\": \"/opt/ml/output\",\n",
      "    \"output_intermediate_dir\": \"/opt/ml/output/intermediate\",\n",
      "    \"resource_config\": {\n",
      "        \"current_host\": \"algo-1\",\n",
      "        \"current_instance_type\": \"ml.m4.xlarge\",\n",
      "        \"current_group_name\": \"homogeneousCluster\",\n",
      "        \"hosts\": [\n",
      "            \"algo-1\"\n",
      "        ],\n",
      "        \"instance_groups\": [\n",
      "            {\n",
      "                \"instance_group_name\": \"homogeneousCluster\",\n",
      "                \"instance_type\": \"ml.m4.xlarge\",\n",
      "                \"hosts\": [\n",
      "                    \"algo-1\"\n",
      "                ]\n",
      "            }\n",
      "        ],\n",
      "        \"network_interface_name\": \"eth0\"\n",
      "    },\n",
      "    \"user_entry_point\": \"train_svm.py\"\u001b[0m\n",
      "\u001b[34m}\u001b[0m\n",
      "\u001b[34mEnvironment variables:\u001b[0m\n",
      "\u001b[34mSM_HOSTS=[\"algo-1\"]\u001b[0m\n",
      "\u001b[34mSM_NETWORK_INTERFACE_NAME=eth0\u001b[0m\n",
      "\u001b[34mSM_HPS={}\u001b[0m\n",
      "\u001b[34mSM_USER_ENTRY_POINT=train_svm.py\u001b[0m\n",
      "\u001b[34mSM_FRAMEWORK_PARAMS={}\u001b[0m\n",
      "\u001b[34mSM_RESOURCE_CONFIG={\"current_group_name\":\"homogeneousCluster\",\"current_host\":\"algo-1\",\"current_instance_type\":\"ml.m4.xlarge\",\"hosts\":[\"algo-1\"],\"instance_groups\":[{\"hosts\":[\"algo-1\"],\"instance_group_name\":\"homogeneousCluster\",\"instance_type\":\"ml.m4.xlarge\"}],\"network_interface_name\":\"eth0\"}\u001b[0m\n",
      "\u001b[34mSM_INPUT_DATA_CONFIG={\"train\":{\"RecordWrapperType\":\"None\",\"S3DistributionType\":\"FullyReplicated\",\"TrainingInputMode\":\"File\"}}\u001b[0m\n",
      "\u001b[34mSM_OUTPUT_DATA_DIR=/opt/ml/output/data\u001b[0m\n",
      "\u001b[34mSM_CHANNELS=[\"train\"]\u001b[0m\n",
      "\u001b[34mSM_CURRENT_HOST=algo-1\u001b[0m\n",
      "\u001b[34mSM_MODULE_NAME=train_svm\u001b[0m\n",
      "\u001b[34mSM_LOG_LEVEL=20\u001b[0m\n",
      "\u001b[34mSM_FRAMEWORK_MODULE=sagemaker_sklearn_container.training:main\u001b[0m\n",
      "\u001b[34mSM_INPUT_DIR=/opt/ml/input\u001b[0m\n",
      "\u001b[34mSM_INPUT_CONFIG_DIR=/opt/ml/input/config\u001b[0m\n",
      "\u001b[34mSM_OUTPUT_DIR=/opt/ml/output\u001b[0m\n",
      "\u001b[34mSM_NUM_CPUS=4\u001b[0m\n",
      "\u001b[34mSM_NUM_GPUS=0\u001b[0m\n",
      "\u001b[34mSM_MODEL_DIR=/opt/ml/model\u001b[0m\n",
      "\u001b[34mSM_MODULE_DIR=s3://sagemaker-eu-central-1-821983426621/sagemaker-scikit-learn-2022-11-14-08-20-46-766/source/sourcedir.tar.gz\u001b[0m\n",
      "\u001b[34mSM_TRAINING_ENV={\"additional_framework_parameters\":{},\"channel_input_dirs\":{\"train\":\"/opt/ml/input/data/train\"},\"current_host\":\"algo-1\",\"framework_module\":\"sagemaker_sklearn_container.training:main\",\"hosts\":[\"algo-1\"],\"hyperparameters\":{},\"input_config_dir\":\"/opt/ml/input/config\",\"input_data_config\":{\"train\":{\"RecordWrapperType\":\"None\",\"S3DistributionType\":\"FullyReplicated\",\"TrainingInputMode\":\"File\"}},\"input_dir\":\"/opt/ml/input\",\"is_master\":true,\"job_name\":\"sagemaker-scikit-learn-2022-11-14-08-20-46-766\",\"log_level\":20,\"master_hostname\":\"algo-1\",\"model_dir\":\"/opt/ml/model\",\"module_dir\":\"s3://sagemaker-eu-central-1-821983426621/sagemaker-scikit-learn-2022-11-14-08-20-46-766/source/sourcedir.tar.gz\",\"module_name\":\"train_svm\",\"network_interface_name\":\"eth0\",\"num_cpus\":4,\"num_gpus\":0,\"output_data_dir\":\"/opt/ml/output/data\",\"output_dir\":\"/opt/ml/output\",\"output_intermediate_dir\":\"/opt/ml/output/intermediate\",\"resource_config\":{\"current_group_name\":\"homogeneousCluster\",\"current_host\":\"algo-1\",\"current_instance_type\":\"ml.m4.xlarge\",\"hosts\":[\"algo-1\"],\"instance_groups\":[{\"hosts\":[\"algo-1\"],\"instance_group_name\":\"homogeneousCluster\",\"instance_type\":\"ml.m4.xlarge\"}],\"network_interface_name\":\"eth0\"},\"user_entry_point\":\"train_svm.py\"}\u001b[0m\n",
      "\u001b[34mSM_USER_ARGS=[]\u001b[0m\n",
      "\u001b[34mSM_OUTPUT_INTERMEDIATE_DIR=/opt/ml/output/intermediate\u001b[0m\n",
      "\u001b[34mSM_CHANNEL_TRAIN=/opt/ml/input/data/train\u001b[0m\n",
      "\u001b[34mPYTHONPATH=/opt/ml/code:/miniconda3/bin:/miniconda3/lib/python37.zip:/miniconda3/lib/python3.7:/miniconda3/lib/python3.7/lib-dynload:/miniconda3/lib/python3.7/site-packages\u001b[0m\n",
      "\u001b[34mInvoking script with the following command:\u001b[0m\n",
      "\u001b[34m/miniconda3/bin/python train_svm.py\u001b[0m\n",
      "\u001b[34m2022-11-14 08:34:39,035 sagemaker-containers INFO     Reporting training SUCCESS\u001b[0m\n",
      "\n",
      "2022-11-14 08:35:54 Uploading - Uploading generated training model\n",
      "2022-11-14 08:35:54 Completed - Training job completed\n",
      "ProfilerReport-1668414046: NoIssuesFound\n",
      "Training seconds: 765\n",
      "Billable seconds: 765\n"
     ]
    }
   ],
   "source": [
    "est_svm_base.fit({'train' : train_path_s3})"
   ]
  },
  {
   "cell_type": "markdown",
   "metadata": {},
   "source": [
    "### (3-c)\tTrain XGBOOST model (Sagemaker in-built algorithm) - baseline"
   ]
  },
  {
   "cell_type": "code",
   "execution_count": 71,
   "metadata": {},
   "outputs": [],
   "source": [
    "# Alternative: XGBOOST (built-in)\n",
    "xgb_image = sagemaker.image_uris.retrieve('xgboost', sm_session.boto_region_name, 'latest')"
   ]
  },
  {
   "cell_type": "code",
   "execution_count": 84,
   "metadata": {},
   "outputs": [],
   "source": [
    "est_xgb_base = \\\n",
    "    sagemaker.estimator.Estimator(xgb_image, # The image name of the training container\n",
    "                                  sm_role, # The IAM role to use (our current role in this case)\n",
    "                                  instance_count = 1, # The number of instances to use for training\n",
    "                                  instance_type = 'ml.m4.xlarge', # The type of instance to use for training\n",
    "                                  output_path = 's3://{}/{}/output'.format(sm_session.default_bucket(), prefix), # Where to save the output (the model artifacts)\n",
    "                                  sagemaker_session = sm_session) # The current SageMaker session"
   ]
  },
  {
   "cell_type": "code",
   "execution_count": 90,
   "metadata": {},
   "outputs": [],
   "source": [
    "est_xgb_base.set_hyperparameters(max_depth = 5,\n",
    "                                 objective = 'binary:logistic',\n",
    "                                 num_round=200)"
   ]
  },
  {
   "cell_type": "code",
   "execution_count": 92,
   "metadata": {},
   "outputs": [
    {
     "data": {
      "text/plain": [
       "'s3://sagemaker-eu-central-1-821983426621/travel_insurance_claim_data/train.csv'"
      ]
     },
     "execution_count": 92,
     "metadata": {},
     "output_type": "execute_result"
    }
   ],
   "source": [
    "train_path_s3"
   ]
  },
  {
   "cell_type": "code",
   "execution_count": 94,
   "metadata": {},
   "outputs": [],
   "source": [
    "from sagemaker.inputs import TrainingInput\n",
    "train_input = TrainingInput(train_path_s3, content_type = 'csv')"
   ]
  },
  {
   "cell_type": "code",
   "execution_count": 96,
   "metadata": {},
   "outputs": [
    {
     "name": "stdout",
     "output_type": "stream",
     "text": [
      "2022-11-14 11:36:00 Starting - Starting the training job...ProfilerReport-1668425760: InProgress\n",
      "...\n",
      "2022-11-14 11:36:52 Starting - Preparing the instances for training.........\n",
      "2022-11-14 11:38:30 Downloading - Downloading input data...\n",
      "2022-11-14 11:38:55 Training - Downloading the training image...\n",
      "2022-11-14 11:39:16 Training - Training image download completed. Training in progress..\u001b[34mArguments: train\u001b[0m\n",
      "\u001b[34m[2022-11-14:11:39:28:INFO] Running standalone xgboost training.\u001b[0m\n",
      "\u001b[34m[2022-11-14:11:39:28:INFO] Path /opt/ml/input/data/validation does not exist!\u001b[0m\n",
      "\u001b[34m[2022-11-14:11:39:28:INFO] File size need to be processed in the node: 19.39mb. Available memory size in the node: 8618.56mb\u001b[0m\n",
      "\u001b[34m[2022-11-14:11:39:28:INFO] Determined delimiter of CSV input is ','\u001b[0m\n",
      "\u001b[34m[11:39:28] S3DistributionType set as FullyReplicated\u001b[0m\n",
      "\u001b[34m[11:39:28] 50637x196 matrix with 9924852 entries loaded from /opt/ml/input/data/train?format=csv&label_column=0&delimiter=,\u001b[0m\n",
      "\u001b[34m[11:39:29] src/tree/updater_prune.cc:74: tree pruning end, 1 roots, 20 extra nodes, 0 pruned nodes, max_depth=5\u001b[0m\n",
      "\u001b[34m[0]#011train-error:0.014653\u001b[0m\n",
      "\u001b[34m[11:39:29] src/tree/updater_prune.cc:74: tree pruning end, 1 roots, 30 extra nodes, 0 pruned nodes, max_depth=5\u001b[0m\n",
      "\u001b[34m[1]#011train-error:0.014653\u001b[0m\n",
      "\u001b[34m[11:39:29] src/tree/updater_prune.cc:74: tree pruning end, 1 roots, 38 extra nodes, 0 pruned nodes, max_depth=5\u001b[0m\n",
      "\u001b[34m[2]#011train-error:0.014653\u001b[0m\n",
      "\u001b[34m[11:39:29] src/tree/updater_prune.cc:74: tree pruning end, 1 roots, 44 extra nodes, 0 pruned nodes, max_depth=5\u001b[0m\n",
      "\u001b[34m[3]#011train-error:0.014653\u001b[0m\n",
      "\u001b[34m[11:39:29] src/tree/updater_prune.cc:74: tree pruning end, 1 roots, 44 extra nodes, 0 pruned nodes, max_depth=5\u001b[0m\n",
      "\u001b[34m[4]#011train-error:0.014653\u001b[0m\n",
      "\u001b[34m[11:39:30] src/tree/updater_prune.cc:74: tree pruning end, 1 roots, 50 extra nodes, 0 pruned nodes, max_depth=5\u001b[0m\n",
      "\u001b[34m[5]#011train-error:0.014653\u001b[0m\n",
      "\u001b[34m[11:39:30] src/tree/updater_prune.cc:74: tree pruning end, 1 roots, 48 extra nodes, 0 pruned nodes, max_depth=5\u001b[0m\n",
      "\u001b[34m[6]#011train-error:0.014653\u001b[0m\n",
      "\u001b[34m[11:39:30] src/tree/updater_prune.cc:74: tree pruning end, 1 roots, 54 extra nodes, 0 pruned nodes, max_depth=5\u001b[0m\n",
      "\u001b[34m[7]#011train-error:0.014653\u001b[0m\n",
      "\u001b[34m[11:39:30] src/tree/updater_prune.cc:74: tree pruning end, 1 roots, 56 extra nodes, 0 pruned nodes, max_depth=5\u001b[0m\n",
      "\u001b[34m[8]#011train-error:0.014653\u001b[0m\n",
      "\u001b[34m[11:39:30] src/tree/updater_prune.cc:74: tree pruning end, 1 roots, 52 extra nodes, 0 pruned nodes, max_depth=5\u001b[0m\n",
      "\u001b[34m[9]#011train-error:0.014653\u001b[0m\n",
      "\u001b[34m[11:39:31] src/tree/updater_prune.cc:74: tree pruning end, 1 roots, 54 extra nodes, 0 pruned nodes, max_depth=5\u001b[0m\n",
      "\u001b[34m[10]#011train-error:0.014653\u001b[0m\n",
      "\u001b[34m[11:39:31] src/tree/updater_prune.cc:74: tree pruning end, 1 roots, 56 extra nodes, 0 pruned nodes, max_depth=5\u001b[0m\n",
      "\u001b[34m[11]#011train-error:0.014653\u001b[0m\n",
      "\u001b[34m[11:39:31] src/tree/updater_prune.cc:74: tree pruning end, 1 roots, 48 extra nodes, 0 pruned nodes, max_depth=5\u001b[0m\n",
      "\u001b[34m[12]#011train-error:0.014653\u001b[0m\n",
      "\u001b[34m[11:39:31] src/tree/updater_prune.cc:74: tree pruning end, 1 roots, 44 extra nodes, 0 pruned nodes, max_depth=5\u001b[0m\n",
      "\u001b[34m[13]#011train-error:0.014653\u001b[0m\n",
      "\u001b[34m[11:39:31] src/tree/updater_prune.cc:74: tree pruning end, 1 roots, 60 extra nodes, 0 pruned nodes, max_depth=5\u001b[0m\n",
      "\u001b[34m[14]#011train-error:0.014653\u001b[0m\n",
      "\u001b[34m[11:39:31] src/tree/updater_prune.cc:74: tree pruning end, 1 roots, 54 extra nodes, 0 pruned nodes, max_depth=5\u001b[0m\n",
      "\u001b[34m[15]#011train-error:0.014653\u001b[0m\n",
      "\u001b[34m[11:39:32] src/tree/updater_prune.cc:74: tree pruning end, 1 roots, 38 extra nodes, 0 pruned nodes, max_depth=5\u001b[0m\n",
      "\u001b[34m[16]#011train-error:0.014653\u001b[0m\n",
      "\u001b[34m[11:39:32] src/tree/updater_prune.cc:74: tree pruning end, 1 roots, 34 extra nodes, 0 pruned nodes, max_depth=5\u001b[0m\n",
      "\u001b[34m[17]#011train-error:0.014653\u001b[0m\n",
      "\u001b[34m[11:39:32] src/tree/updater_prune.cc:74: tree pruning end, 1 roots, 36 extra nodes, 0 pruned nodes, max_depth=5\u001b[0m\n",
      "\u001b[34m[18]#011train-error:0.014653\u001b[0m\n",
      "\u001b[34m[11:39:32] src/tree/updater_prune.cc:74: tree pruning end, 1 roots, 42 extra nodes, 0 pruned nodes, max_depth=5\u001b[0m\n",
      "\u001b[34m[19]#011train-error:0.014653\u001b[0m\n",
      "\u001b[34m[11:39:32] src/tree/updater_prune.cc:74: tree pruning end, 1 roots, 46 extra nodes, 0 pruned nodes, max_depth=5\u001b[0m\n",
      "\u001b[34m[20]#011train-error:0.014653\u001b[0m\n",
      "\u001b[34m[11:39:32] src/tree/updater_prune.cc:74: tree pruning end, 1 roots, 28 extra nodes, 0 pruned nodes, max_depth=5\u001b[0m\n",
      "\u001b[34m[21]#011train-error:0.014653\u001b[0m\n",
      "\u001b[34m[11:39:33] src/tree/updater_prune.cc:74: tree pruning end, 1 roots, 28 extra nodes, 0 pruned nodes, max_depth=5\u001b[0m\n",
      "\u001b[34m[22]#011train-error:0.014653\u001b[0m\n",
      "\u001b[34m[11:39:33] src/tree/updater_prune.cc:74: tree pruning end, 1 roots, 32 extra nodes, 0 pruned nodes, max_depth=5\u001b[0m\n",
      "\u001b[34m[23]#011train-error:0.014653\u001b[0m\n",
      "\u001b[34m[11:39:33] src/tree/updater_prune.cc:74: tree pruning end, 1 roots, 40 extra nodes, 0 pruned nodes, max_depth=5\u001b[0m\n",
      "\u001b[34m[24]#011train-error:0.014653\u001b[0m\n",
      "\u001b[34m[11:39:33] src/tree/updater_prune.cc:74: tree pruning end, 1 roots, 30 extra nodes, 0 pruned nodes, max_depth=5\u001b[0m\n",
      "\u001b[34m[25]#011train-error:0.014653\u001b[0m\n",
      "\u001b[34m[11:39:33] src/tree/updater_prune.cc:74: tree pruning end, 1 roots, 38 extra nodes, 0 pruned nodes, max_depth=5\u001b[0m\n",
      "\u001b[34m[26]#011train-error:0.014653\u001b[0m\n",
      "\u001b[34m[11:39:33] src/tree/updater_prune.cc:74: tree pruning end, 1 roots, 24 extra nodes, 0 pruned nodes, max_depth=5\u001b[0m\n",
      "\u001b[34m[27]#011train-error:0.014653\u001b[0m\n",
      "\u001b[34m[11:39:33] src/tree/updater_prune.cc:74: tree pruning end, 1 roots, 22 extra nodes, 0 pruned nodes, max_depth=5\u001b[0m\n",
      "\u001b[34m[28]#011train-error:0.014653\u001b[0m\n",
      "\u001b[34m[11:39:34] src/tree/updater_prune.cc:74: tree pruning end, 1 roots, 12 extra nodes, 0 pruned nodes, max_depth=5\u001b[0m\n",
      "\u001b[34m[29]#011train-error:0.014653\u001b[0m\n",
      "\u001b[34m[11:39:34] src/tree/updater_prune.cc:74: tree pruning end, 1 roots, 20 extra nodes, 0 pruned nodes, max_depth=5\u001b[0m\n",
      "\u001b[34m[30]#011train-error:0.014653\u001b[0m\n",
      "\u001b[34m[11:39:34] src/tree/updater_prune.cc:74: tree pruning end, 1 roots, 14 extra nodes, 0 pruned nodes, max_depth=5\u001b[0m\n",
      "\u001b[34m[31]#011train-error:0.014653\u001b[0m\n",
      "\u001b[34m[11:39:34] src/tree/updater_prune.cc:74: tree pruning end, 1 roots, 28 extra nodes, 0 pruned nodes, max_depth=5\u001b[0m\n",
      "\u001b[34m[32]#011train-error:0.014653\u001b[0m\n",
      "\u001b[34m[11:39:34] src/tree/updater_prune.cc:74: tree pruning end, 1 roots, 28 extra nodes, 0 pruned nodes, max_depth=5\u001b[0m\n",
      "\u001b[34m[33]#011train-error:0.014653\u001b[0m\n",
      "\u001b[34m[11:39:34] src/tree/updater_prune.cc:74: tree pruning end, 1 roots, 12 extra nodes, 0 pruned nodes, max_depth=5\u001b[0m\n",
      "\u001b[34m[34]#011train-error:0.014653\u001b[0m\n",
      "\u001b[34m[11:39:34] src/tree/updater_prune.cc:74: tree pruning end, 1 roots, 20 extra nodes, 0 pruned nodes, max_depth=5\u001b[0m\n",
      "\u001b[34m[35]#011train-error:0.014653\u001b[0m\n",
      "\u001b[34m[11:39:35] src/tree/updater_prune.cc:74: tree pruning end, 1 roots, 26 extra nodes, 0 pruned nodes, max_depth=5\u001b[0m\n",
      "\u001b[34m[36]#011train-error:0.014653\u001b[0m\n",
      "\u001b[34m[11:39:35] src/tree/updater_prune.cc:74: tree pruning end, 1 roots, 24 extra nodes, 0 pruned nodes, max_depth=5\u001b[0m\n",
      "\u001b[34m[37]#011train-error:0.014653\u001b[0m\n",
      "\u001b[34m[11:39:35] src/tree/updater_prune.cc:74: tree pruning end, 1 roots, 18 extra nodes, 0 pruned nodes, max_depth=5\u001b[0m\n",
      "\u001b[34m[38]#011train-error:0.014653\u001b[0m\n",
      "\u001b[34m[11:39:35] src/tree/updater_prune.cc:74: tree pruning end, 1 roots, 38 extra nodes, 0 pruned nodes, max_depth=5\u001b[0m\n",
      "\u001b[34m[39]#011train-error:0.014653\u001b[0m\n",
      "\u001b[34m[11:39:35] src/tree/updater_prune.cc:74: tree pruning end, 1 roots, 46 extra nodes, 0 pruned nodes, max_depth=5\u001b[0m\n",
      "\u001b[34m[40]#011train-error:0.014653\u001b[0m\n",
      "\u001b[34m[11:39:35] src/tree/updater_prune.cc:74: tree pruning end, 1 roots, 24 extra nodes, 0 pruned nodes, max_depth=5\u001b[0m\n",
      "\u001b[34m[41]#011train-error:0.014653\u001b[0m\n",
      "\u001b[34m[11:39:36] src/tree/updater_prune.cc:74: tree pruning end, 1 roots, 32 extra nodes, 0 pruned nodes, max_depth=5\u001b[0m\n",
      "\u001b[34m[42]#011train-error:0.014653\u001b[0m\n",
      "\u001b[34m[11:39:36] src/tree/updater_prune.cc:74: tree pruning end, 1 roots, 30 extra nodes, 0 pruned nodes, max_depth=5\u001b[0m\n",
      "\u001b[34m[43]#011train-error:0.014653\u001b[0m\n",
      "\u001b[34m[11:39:36] src/tree/updater_prune.cc:74: tree pruning end, 1 roots, 62 extra nodes, 0 pruned nodes, max_depth=5\u001b[0m\n",
      "\u001b[34m[44]#011train-error:0.014653\u001b[0m\n",
      "\u001b[34m[11:39:36] src/tree/updater_prune.cc:74: tree pruning end, 1 roots, 28 extra nodes, 0 pruned nodes, max_depth=5\u001b[0m\n",
      "\u001b[34m[45]#011train-error:0.014653\u001b[0m\n",
      "\u001b[34m[11:39:36] src/tree/updater_prune.cc:74: tree pruning end, 1 roots, 26 extra nodes, 0 pruned nodes, max_depth=5\u001b[0m\n",
      "\u001b[34m[46]#011train-error:0.014653\u001b[0m\n",
      "\u001b[34m[11:39:36] src/tree/updater_prune.cc:74: tree pruning end, 1 roots, 32 extra nodes, 0 pruned nodes, max_depth=5\u001b[0m\n",
      "\u001b[34m[47]#011train-error:0.014653\u001b[0m\n",
      "\u001b[34m[11:39:36] src/tree/updater_prune.cc:74: tree pruning end, 1 roots, 42 extra nodes, 0 pruned nodes, max_depth=5\u001b[0m\n",
      "\u001b[34m[48]#011train-error:0.014653\u001b[0m\n",
      "\u001b[34m[11:39:37] src/tree/updater_prune.cc:74: tree pruning end, 1 roots, 20 extra nodes, 0 pruned nodes, max_depth=5\u001b[0m\n",
      "\u001b[34m[49]#011train-error:0.014653\u001b[0m\n",
      "\u001b[34m[11:39:37] src/tree/updater_prune.cc:74: tree pruning end, 1 roots, 44 extra nodes, 0 pruned nodes, max_depth=5\u001b[0m\n",
      "\u001b[34m[50]#011train-error:0.014653\u001b[0m\n",
      "\u001b[34m[11:39:37] src/tree/updater_prune.cc:74: tree pruning end, 1 roots, 32 extra nodes, 0 pruned nodes, max_depth=5\u001b[0m\n",
      "\u001b[34m[51]#011train-error:0.014653\u001b[0m\n",
      "\u001b[34m[11:39:37] src/tree/updater_prune.cc:74: tree pruning end, 1 roots, 18 extra nodes, 0 pruned nodes, max_depth=5\u001b[0m\n",
      "\u001b[34m[52]#011train-error:0.014653\u001b[0m\n",
      "\u001b[34m[11:39:37] src/tree/updater_prune.cc:74: tree pruning end, 1 roots, 14 extra nodes, 0 pruned nodes, max_depth=5\u001b[0m\n",
      "\u001b[34m[53]#011train-error:0.014653\u001b[0m\n",
      "\u001b[34m[11:39:37] src/tree/updater_prune.cc:74: tree pruning end, 1 roots, 38 extra nodes, 0 pruned nodes, max_depth=5\u001b[0m\n",
      "\u001b[34m[54]#011train-error:0.014653\u001b[0m\n",
      "\u001b[34m[11:39:38] src/tree/updater_prune.cc:74: tree pruning end, 1 roots, 22 extra nodes, 0 pruned nodes, max_depth=5\u001b[0m\n",
      "\u001b[34m[55]#011train-error:0.014653\u001b[0m\n",
      "\u001b[34m[11:39:38] src/tree/updater_prune.cc:74: tree pruning end, 1 roots, 18 extra nodes, 0 pruned nodes, max_depth=5\u001b[0m\n",
      "\u001b[34m[56]#011train-error:0.014653\u001b[0m\n",
      "\u001b[34m[11:39:38] src/tree/updater_prune.cc:74: tree pruning end, 1 roots, 34 extra nodes, 0 pruned nodes, max_depth=5\u001b[0m\n",
      "\u001b[34m[57]#011train-error:0.014653\u001b[0m\n",
      "\u001b[34m[11:39:38] src/tree/updater_prune.cc:74: tree pruning end, 1 roots, 40 extra nodes, 0 pruned nodes, max_depth=5\u001b[0m\n",
      "\u001b[34m[58]#011train-error:0.014653\u001b[0m\n",
      "\u001b[34m[11:39:38] src/tree/updater_prune.cc:74: tree pruning end, 1 roots, 60 extra nodes, 0 pruned nodes, max_depth=5\u001b[0m\n",
      "\u001b[34m[59]#011train-error:0.014634\u001b[0m\n",
      "\u001b[34m[11:39:38] src/tree/updater_prune.cc:74: tree pruning end, 1 roots, 34 extra nodes, 0 pruned nodes, max_depth=5\u001b[0m\n",
      "\u001b[34m[60]#011train-error:0.014634\u001b[0m\n",
      "\u001b[34m[11:39:38] src/tree/updater_prune.cc:74: tree pruning end, 1 roots, 34 extra nodes, 0 pruned nodes, max_depth=5\u001b[0m\n",
      "\u001b[34m[61]#011train-error:0.014634\u001b[0m\n",
      "\u001b[34m[11:39:39] src/tree/updater_prune.cc:74: tree pruning end, 1 roots, 36 extra nodes, 0 pruned nodes, max_depth=5\u001b[0m\n",
      "\u001b[34m[62]#011train-error:0.014634\u001b[0m\n",
      "\u001b[34m[11:39:39] src/tree/updater_prune.cc:74: tree pruning end, 1 roots, 36 extra nodes, 0 pruned nodes, max_depth=5\u001b[0m\n",
      "\u001b[34m[63]#011train-error:0.014634\u001b[0m\n",
      "\u001b[34m[11:39:39] src/tree/updater_prune.cc:74: tree pruning end, 1 roots, 32 extra nodes, 0 pruned nodes, max_depth=5\u001b[0m\n",
      "\u001b[34m[64]#011train-error:0.014634\u001b[0m\n",
      "\u001b[34m[11:39:39] src/tree/updater_prune.cc:74: tree pruning end, 1 roots, 22 extra nodes, 0 pruned nodes, max_depth=5\u001b[0m\n",
      "\u001b[34m[65]#011train-error:0.014634\u001b[0m\n",
      "\u001b[34m[11:39:39] src/tree/updater_prune.cc:74: tree pruning end, 1 roots, 34 extra nodes, 0 pruned nodes, max_depth=5\u001b[0m\n",
      "\u001b[34m[66]#011train-error:0.014634\u001b[0m\n",
      "\u001b[34m[11:39:39] src/tree/updater_prune.cc:74: tree pruning end, 1 roots, 42 extra nodes, 0 pruned nodes, max_depth=5\u001b[0m\n",
      "\u001b[34m[67]#011train-error:0.014634\u001b[0m\n",
      "\u001b[34m[11:39:39] src/tree/updater_prune.cc:74: tree pruning end, 1 roots, 36 extra nodes, 0 pruned nodes, max_depth=5\u001b[0m\n",
      "\u001b[34m[68]#011train-error:0.014634\u001b[0m\n",
      "\u001b[34m[11:39:40] src/tree/updater_prune.cc:74: tree pruning end, 1 roots, 24 extra nodes, 0 pruned nodes, max_depth=5\u001b[0m\n",
      "\u001b[34m[69]#011train-error:0.014634\u001b[0m\n",
      "\u001b[34m[11:39:40] src/tree/updater_prune.cc:74: tree pruning end, 1 roots, 30 extra nodes, 0 pruned nodes, max_depth=5\u001b[0m\n",
      "\u001b[34m[70]#011train-error:0.014634\u001b[0m\n",
      "\u001b[34m[11:39:40] src/tree/updater_prune.cc:74: tree pruning end, 1 roots, 42 extra nodes, 0 pruned nodes, max_depth=5\u001b[0m\n",
      "\u001b[34m[71]#011train-error:0.014634\u001b[0m\n",
      "\u001b[34m[11:39:40] src/tree/updater_prune.cc:74: tree pruning end, 1 roots, 18 extra nodes, 0 pruned nodes, max_depth=5\u001b[0m\n",
      "\u001b[34m[72]#011train-error:0.014653\u001b[0m\n",
      "\u001b[34m[11:39:40] src/tree/updater_prune.cc:74: tree pruning end, 1 roots, 52 extra nodes, 0 pruned nodes, max_depth=5\u001b[0m\n",
      "\u001b[34m[73]#011train-error:0.014653\u001b[0m\n",
      "\u001b[34m[11:39:40] src/tree/updater_prune.cc:74: tree pruning end, 1 roots, 28 extra nodes, 0 pruned nodes, max_depth=5\u001b[0m\n",
      "\u001b[34m[74]#011train-error:0.014634\u001b[0m\n",
      "\u001b[34m[11:39:41] src/tree/updater_prune.cc:74: tree pruning end, 1 roots, 14 extra nodes, 0 pruned nodes, max_depth=5\u001b[0m\n",
      "\u001b[34m[75]#011train-error:0.014634\u001b[0m\n",
      "\u001b[34m[11:39:41] src/tree/updater_prune.cc:74: tree pruning end, 1 roots, 36 extra nodes, 0 pruned nodes, max_depth=5\u001b[0m\n",
      "\u001b[34m[76]#011train-error:0.014634\u001b[0m\n",
      "\u001b[34m[11:39:41] src/tree/updater_prune.cc:74: tree pruning end, 1 roots, 22 extra nodes, 0 pruned nodes, max_depth=5\u001b[0m\n",
      "\u001b[34m[77]#011train-error:0.014653\u001b[0m\n",
      "\u001b[34m[11:39:41] src/tree/updater_prune.cc:74: tree pruning end, 1 roots, 12 extra nodes, 0 pruned nodes, max_depth=5\u001b[0m\n",
      "\u001b[34m[78]#011train-error:0.014614\u001b[0m\n",
      "\u001b[34m[11:39:41] src/tree/updater_prune.cc:74: tree pruning end, 1 roots, 20 extra nodes, 0 pruned nodes, max_depth=5\u001b[0m\n",
      "\u001b[34m[79]#011train-error:0.014634\u001b[0m\n",
      "\u001b[34m[11:39:41] src/tree/updater_prune.cc:74: tree pruning end, 1 roots, 28 extra nodes, 0 pruned nodes, max_depth=5\u001b[0m\n",
      "\u001b[34m[80]#011train-error:0.014634\u001b[0m\n",
      "\u001b[34m[11:39:41] src/tree/updater_prune.cc:74: tree pruning end, 1 roots, 30 extra nodes, 0 pruned nodes, max_depth=5\u001b[0m\n",
      "\u001b[34m[81]#011train-error:0.014634\u001b[0m\n",
      "\u001b[34m[11:39:42] src/tree/updater_prune.cc:74: tree pruning end, 1 roots, 46 extra nodes, 0 pruned nodes, max_depth=5\u001b[0m\n",
      "\u001b[34m[82]#011train-error:0.014634\u001b[0m\n",
      "\u001b[34m[11:39:42] src/tree/updater_prune.cc:74: tree pruning end, 1 roots, 38 extra nodes, 0 pruned nodes, max_depth=5\u001b[0m\n",
      "\u001b[34m[83]#011train-error:0.014614\u001b[0m\n",
      "\u001b[34m[11:39:42] src/tree/updater_prune.cc:74: tree pruning end, 1 roots, 36 extra nodes, 0 pruned nodes, max_depth=5\u001b[0m\n",
      "\u001b[34m[84]#011train-error:0.014614\u001b[0m\n",
      "\u001b[34m[11:39:42] src/tree/updater_prune.cc:74: tree pruning end, 1 roots, 22 extra nodes, 0 pruned nodes, max_depth=5\u001b[0m\n",
      "\u001b[34m[85]#011train-error:0.014555\u001b[0m\n",
      "\u001b[34m[11:39:42] src/tree/updater_prune.cc:74: tree pruning end, 1 roots, 44 extra nodes, 0 pruned nodes, max_depth=5\u001b[0m\n",
      "\u001b[34m[86]#011train-error:0.014555\u001b[0m\n",
      "\u001b[34m[11:39:42] src/tree/updater_prune.cc:74: tree pruning end, 1 roots, 22 extra nodes, 0 pruned nodes, max_depth=5\u001b[0m\n",
      "\u001b[34m[87]#011train-error:0.014495\u001b[0m\n",
      "\u001b[34m[11:39:43] src/tree/updater_prune.cc:74: tree pruning end, 1 roots, 24 extra nodes, 0 pruned nodes, max_depth=5\u001b[0m\n",
      "\u001b[34m[88]#011train-error:0.014555\u001b[0m\n",
      "\u001b[34m[11:39:43] src/tree/updater_prune.cc:74: tree pruning end, 1 roots, 44 extra nodes, 0 pruned nodes, max_depth=5\u001b[0m\n",
      "\u001b[34m[89]#011train-error:0.014555\u001b[0m\n",
      "\u001b[34m[11:39:43] src/tree/updater_prune.cc:74: tree pruning end, 1 roots, 38 extra nodes, 0 pruned nodes, max_depth=5\u001b[0m\n",
      "\u001b[34m[90]#011train-error:0.014495\u001b[0m\n",
      "\u001b[34m[11:39:43] src/tree/updater_prune.cc:74: tree pruning end, 1 roots, 30 extra nodes, 0 pruned nodes, max_depth=5\u001b[0m\n",
      "\u001b[34m[91]#011train-error:0.014495\u001b[0m\n",
      "\u001b[34m[11:39:43] src/tree/updater_prune.cc:74: tree pruning end, 1 roots, 20 extra nodes, 0 pruned nodes, max_depth=5\u001b[0m\n",
      "\u001b[34m[92]#011train-error:0.014495\u001b[0m\n",
      "\u001b[34m[11:39:43] src/tree/updater_prune.cc:74: tree pruning end, 1 roots, 30 extra nodes, 0 pruned nodes, max_depth=5\u001b[0m\n",
      "\u001b[34m[93]#011train-error:0.014515\u001b[0m\n",
      "\u001b[34m[11:39:43] src/tree/updater_prune.cc:74: tree pruning end, 1 roots, 30 extra nodes, 0 pruned nodes, max_depth=5\u001b[0m\n",
      "\u001b[34m[94]#011train-error:0.014515\u001b[0m\n",
      "\u001b[34m[11:39:44] src/tree/updater_prune.cc:74: tree pruning end, 1 roots, 44 extra nodes, 0 pruned nodes, max_depth=5\u001b[0m\n",
      "\u001b[34m[95]#011train-error:0.014456\u001b[0m\n",
      "\u001b[34m[11:39:44] src/tree/updater_prune.cc:74: tree pruning end, 1 roots, 38 extra nodes, 0 pruned nodes, max_depth=5\u001b[0m\n",
      "\u001b[34m[96]#011train-error:0.014456\u001b[0m\n",
      "\u001b[34m[11:39:44] src/tree/updater_prune.cc:74: tree pruning end, 1 roots, 34 extra nodes, 0 pruned nodes, max_depth=5\u001b[0m\n",
      "\u001b[34m[97]#011train-error:0.014436\u001b[0m\n",
      "\u001b[34m[11:39:44] src/tree/updater_prune.cc:74: tree pruning end, 1 roots, 30 extra nodes, 0 pruned nodes, max_depth=5\u001b[0m\n",
      "\u001b[34m[98]#011train-error:0.014436\u001b[0m\n",
      "\u001b[34m[11:39:44] src/tree/updater_prune.cc:74: tree pruning end, 1 roots, 36 extra nodes, 0 pruned nodes, max_depth=5\u001b[0m\n",
      "\u001b[34m[99]#011train-error:0.014357\u001b[0m\n",
      "\u001b[34m[11:39:45] src/tree/updater_prune.cc:74: tree pruning end, 1 roots, 26 extra nodes, 0 pruned nodes, max_depth=5\u001b[0m\n",
      "\u001b[34m[100]#011train-error:0.014377\u001b[0m\n",
      "\u001b[34m[11:39:45] src/tree/updater_prune.cc:74: tree pruning end, 1 roots, 28 extra nodes, 0 pruned nodes, max_depth=5\u001b[0m\n",
      "\u001b[34m[101]#011train-error:0.014377\u001b[0m\n",
      "\u001b[34m[11:39:45] src/tree/updater_prune.cc:74: tree pruning end, 1 roots, 26 extra nodes, 0 pruned nodes, max_depth=5\u001b[0m\n",
      "\u001b[34m[102]#011train-error:0.014397\u001b[0m\n",
      "\u001b[34m[11:39:45] src/tree/updater_prune.cc:74: tree pruning end, 1 roots, 18 extra nodes, 0 pruned nodes, max_depth=5\u001b[0m\n",
      "\u001b[34m[103]#011train-error:0.014397\u001b[0m\n",
      "\u001b[34m[11:39:45] src/tree/updater_prune.cc:74: tree pruning end, 1 roots, 26 extra nodes, 0 pruned nodes, max_depth=5\u001b[0m\n",
      "\u001b[34m[104]#011train-error:0.014397\u001b[0m\n",
      "\u001b[34m[11:39:45] src/tree/updater_prune.cc:74: tree pruning end, 1 roots, 24 extra nodes, 0 pruned nodes, max_depth=5\u001b[0m\n",
      "\u001b[34m[105]#011train-error:0.014397\u001b[0m\n",
      "\u001b[34m[11:39:45] src/tree/updater_prune.cc:74: tree pruning end, 1 roots, 38 extra nodes, 0 pruned nodes, max_depth=5\u001b[0m\n",
      "\u001b[34m[106]#011train-error:0.014377\u001b[0m\n",
      "\u001b[34m[11:39:46] src/tree/updater_prune.cc:74: tree pruning end, 1 roots, 10 extra nodes, 0 pruned nodes, max_depth=5\u001b[0m\n",
      "\u001b[34m[107]#011train-error:0.014377\u001b[0m\n",
      "\u001b[34m[11:39:46] src/tree/updater_prune.cc:74: tree pruning end, 1 roots, 24 extra nodes, 0 pruned nodes, max_depth=5\u001b[0m\n",
      "\u001b[34m[108]#011train-error:0.014377\u001b[0m\n",
      "\u001b[34m[11:39:46] src/tree/updater_prune.cc:74: tree pruning end, 1 roots, 26 extra nodes, 0 pruned nodes, max_depth=5\u001b[0m\n",
      "\u001b[34m[109]#011train-error:0.014377\u001b[0m\n",
      "\u001b[34m[11:39:46] src/tree/updater_prune.cc:74: tree pruning end, 1 roots, 36 extra nodes, 0 pruned nodes, max_depth=5\u001b[0m\n",
      "\u001b[34m[110]#011train-error:0.014357\u001b[0m\n",
      "\u001b[34m[11:39:46] src/tree/updater_prune.cc:74: tree pruning end, 1 roots, 10 extra nodes, 0 pruned nodes, max_depth=5\u001b[0m\n",
      "\u001b[34m[111]#011train-error:0.014357\u001b[0m\n",
      "\u001b[34m[11:39:46] src/tree/updater_prune.cc:74: tree pruning end, 1 roots, 22 extra nodes, 0 pruned nodes, max_depth=5\u001b[0m\n",
      "\u001b[34m[112]#011train-error:0.014357\u001b[0m\n",
      "\u001b[34m[11:39:46] src/tree/updater_prune.cc:74: tree pruning end, 1 roots, 52 extra nodes, 0 pruned nodes, max_depth=5\u001b[0m\n",
      "\u001b[34m[113]#011train-error:0.014357\u001b[0m\n",
      "\u001b[34m[11:39:47] src/tree/updater_prune.cc:74: tree pruning end, 1 roots, 46 extra nodes, 0 pruned nodes, max_depth=5\u001b[0m\n",
      "\u001b[34m[114]#011train-error:0.014377\u001b[0m\n",
      "\u001b[34m[11:39:47] src/tree/updater_prune.cc:74: tree pruning end, 1 roots, 26 extra nodes, 0 pruned nodes, max_depth=5\u001b[0m\n",
      "\u001b[34m[115]#011train-error:0.014377\u001b[0m\n",
      "\u001b[34m[11:39:47] src/tree/updater_prune.cc:74: tree pruning end, 1 roots, 26 extra nodes, 0 pruned nodes, max_depth=5\u001b[0m\n",
      "\u001b[34m[116]#011train-error:0.014377\u001b[0m\n",
      "\u001b[34m[11:39:47] src/tree/updater_prune.cc:74: tree pruning end, 1 roots, 32 extra nodes, 0 pruned nodes, max_depth=5\u001b[0m\n",
      "\u001b[34m[117]#011train-error:0.014357\u001b[0m\n",
      "\u001b[34m[11:39:47] src/tree/updater_prune.cc:74: tree pruning end, 1 roots, 38 extra nodes, 0 pruned nodes, max_depth=5\u001b[0m\n",
      "\u001b[34m[118]#011train-error:0.014357\u001b[0m\n",
      "\u001b[34m[11:39:47] src/tree/updater_prune.cc:74: tree pruning end, 1 roots, 48 extra nodes, 0 pruned nodes, max_depth=5\u001b[0m\n",
      "\u001b[34m[119]#011train-error:0.014357\u001b[0m\n",
      "\u001b[34m[11:39:48] src/tree/updater_prune.cc:74: tree pruning end, 1 roots, 26 extra nodes, 0 pruned nodes, max_depth=5\u001b[0m\n",
      "\u001b[34m[120]#011train-error:0.014337\u001b[0m\n",
      "\u001b[34m[11:39:48] src/tree/updater_prune.cc:74: tree pruning end, 1 roots, 28 extra nodes, 0 pruned nodes, max_depth=5\u001b[0m\n",
      "\u001b[34m[121]#011train-error:0.014337\u001b[0m\n",
      "\u001b[34m[11:39:48] src/tree/updater_prune.cc:74: tree pruning end, 1 roots, 28 extra nodes, 0 pruned nodes, max_depth=5\u001b[0m\n",
      "\u001b[34m[122]#011train-error:0.014318\u001b[0m\n",
      "\u001b[34m[11:39:48] src/tree/updater_prune.cc:74: tree pruning end, 1 roots, 44 extra nodes, 0 pruned nodes, max_depth=5\u001b[0m\n",
      "\u001b[34m[123]#011train-error:0.014298\u001b[0m\n",
      "\u001b[34m[11:39:48] src/tree/updater_prune.cc:74: tree pruning end, 1 roots, 28 extra nodes, 0 pruned nodes, max_depth=5\u001b[0m\n",
      "\u001b[34m[124]#011train-error:0.014219\u001b[0m\n",
      "\u001b[34m[11:39:48] src/tree/updater_prune.cc:74: tree pruning end, 1 roots, 38 extra nodes, 0 pruned nodes, max_depth=5\u001b[0m\n",
      "\u001b[34m[125]#011train-error:0.014199\u001b[0m\n",
      "\u001b[34m[11:39:48] src/tree/updater_prune.cc:74: tree pruning end, 1 roots, 20 extra nodes, 0 pruned nodes, max_depth=5\u001b[0m\n",
      "\u001b[34m[126]#011train-error:0.014199\u001b[0m\n",
      "\u001b[34m[11:39:49] src/tree/updater_prune.cc:74: tree pruning end, 1 roots, 38 extra nodes, 0 pruned nodes, max_depth=5\u001b[0m\n",
      "\u001b[34m[127]#011train-error:0.014219\u001b[0m\n",
      "\u001b[34m[11:39:49] src/tree/updater_prune.cc:74: tree pruning end, 1 roots, 20 extra nodes, 0 pruned nodes, max_depth=5\u001b[0m\n",
      "\u001b[34m[128]#011train-error:0.014219\u001b[0m\n",
      "\u001b[34m[11:39:49] src/tree/updater_prune.cc:74: tree pruning end, 1 roots, 22 extra nodes, 0 pruned nodes, max_depth=5\u001b[0m\n",
      "\u001b[34m[129]#011train-error:0.01414\u001b[0m\n",
      "\u001b[34m[11:39:49] src/tree/updater_prune.cc:74: tree pruning end, 1 roots, 12 extra nodes, 0 pruned nodes, max_depth=5\u001b[0m\n",
      "\u001b[34m[130]#011train-error:0.01414\u001b[0m\n",
      "\u001b[34m[11:39:49] src/tree/updater_prune.cc:74: tree pruning end, 1 roots, 22 extra nodes, 0 pruned nodes, max_depth=5\u001b[0m\n",
      "\u001b[34m[131]#011train-error:0.01414\u001b[0m\n",
      "\u001b[34m[11:39:49] src/tree/updater_prune.cc:74: tree pruning end, 1 roots, 44 extra nodes, 0 pruned nodes, max_depth=5\u001b[0m\n",
      "\u001b[34m[132]#011train-error:0.01414\u001b[0m\n",
      "\u001b[34m[11:39:49] src/tree/updater_prune.cc:74: tree pruning end, 1 roots, 16 extra nodes, 0 pruned nodes, max_depth=5\u001b[0m\n",
      "\u001b[34m[133]#011train-error:0.01412\u001b[0m\n",
      "\u001b[34m[11:39:50] src/tree/updater_prune.cc:74: tree pruning end, 1 roots, 12 extra nodes, 0 pruned nodes, max_depth=5\u001b[0m\n",
      "\u001b[34m[134]#011train-error:0.01412\u001b[0m\n",
      "\u001b[34m[11:39:50] src/tree/updater_prune.cc:74: tree pruning end, 1 roots, 28 extra nodes, 0 pruned nodes, max_depth=5\u001b[0m\n",
      "\u001b[34m[135]#011train-error:0.01412\u001b[0m\n",
      "\u001b[34m[11:39:50] src/tree/updater_prune.cc:74: tree pruning end, 1 roots, 16 extra nodes, 0 pruned nodes, max_depth=5\u001b[0m\n",
      "\u001b[34m[136]#011train-error:0.01412\u001b[0m\n",
      "\u001b[34m[11:39:50] src/tree/updater_prune.cc:74: tree pruning end, 1 roots, 34 extra nodes, 0 pruned nodes, max_depth=5\u001b[0m\n",
      "\u001b[34m[137]#011train-error:0.014041\u001b[0m\n",
      "\u001b[34m[11:39:50] src/tree/updater_prune.cc:74: tree pruning end, 1 roots, 20 extra nodes, 0 pruned nodes, max_depth=5\u001b[0m\n",
      "\u001b[34m[138]#011train-error:0.014041\u001b[0m\n",
      "\u001b[34m[11:39:50] src/tree/updater_prune.cc:74: tree pruning end, 1 roots, 10 extra nodes, 0 pruned nodes, max_depth=5\u001b[0m\n",
      "\u001b[34m[139]#011train-error:0.014041\u001b[0m\n",
      "\u001b[34m[11:39:51] src/tree/updater_prune.cc:74: tree pruning end, 1 roots, 26 extra nodes, 0 pruned nodes, max_depth=5\u001b[0m\n",
      "\u001b[34m[140]#011train-error:0.014041\u001b[0m\n",
      "\u001b[34m[11:39:51] src/tree/updater_prune.cc:74: tree pruning end, 1 roots, 18 extra nodes, 0 pruned nodes, max_depth=5\u001b[0m\n",
      "\u001b[34m[141]#011train-error:0.014081\u001b[0m\n",
      "\u001b[34m[11:39:51] src/tree/updater_prune.cc:74: tree pruning end, 1 roots, 30 extra nodes, 0 pruned nodes, max_depth=5\u001b[0m\n",
      "\u001b[34m[142]#011train-error:0.014021\u001b[0m\n",
      "\u001b[34m[11:39:51] src/tree/updater_prune.cc:74: tree pruning end, 1 roots, 36 extra nodes, 0 pruned nodes, max_depth=5\u001b[0m\n",
      "\u001b[34m[143]#011train-error:0.014021\u001b[0m\n",
      "\u001b[34m[11:39:51] src/tree/updater_prune.cc:74: tree pruning end, 1 roots, 24 extra nodes, 0 pruned nodes, max_depth=5\u001b[0m\n",
      "\u001b[34m[144]#011train-error:0.014021\u001b[0m\n",
      "\u001b[34m[11:39:51] src/tree/updater_prune.cc:74: tree pruning end, 1 roots, 24 extra nodes, 0 pruned nodes, max_depth=5\u001b[0m\n",
      "\u001b[34m[145]#011train-error:0.014021\u001b[0m\n",
      "\u001b[34m[11:39:51] src/tree/updater_prune.cc:74: tree pruning end, 1 roots, 26 extra nodes, 0 pruned nodes, max_depth=5\u001b[0m\n",
      "\u001b[34m[146]#011train-error:0.014041\u001b[0m\n",
      "\u001b[34m[11:39:52] src/tree/updater_prune.cc:74: tree pruning end, 1 roots, 52 extra nodes, 0 pruned nodes, max_depth=5\u001b[0m\n",
      "\u001b[34m[147]#011train-error:0.014041\u001b[0m\n",
      "\u001b[34m[11:39:52] src/tree/updater_prune.cc:74: tree pruning end, 1 roots, 30 extra nodes, 0 pruned nodes, max_depth=5\u001b[0m\n",
      "\u001b[34m[148]#011train-error:0.014002\u001b[0m\n",
      "\u001b[34m[11:39:52] src/tree/updater_prune.cc:74: tree pruning end, 1 roots, 36 extra nodes, 0 pruned nodes, max_depth=5\u001b[0m\n",
      "\u001b[34m[149]#011train-error:0.014041\u001b[0m\n",
      "\u001b[34m[11:39:52] src/tree/updater_prune.cc:74: tree pruning end, 1 roots, 30 extra nodes, 0 pruned nodes, max_depth=5\u001b[0m\n",
      "\u001b[34m[150]#011train-error:0.014041\u001b[0m\n",
      "\u001b[34m[11:39:52] src/tree/updater_prune.cc:74: tree pruning end, 1 roots, 48 extra nodes, 0 pruned nodes, max_depth=5\u001b[0m\n",
      "\u001b[34m[151]#011train-error:0.014041\u001b[0m\n",
      "\u001b[34m[11:39:52] src/tree/updater_prune.cc:74: tree pruning end, 1 roots, 46 extra nodes, 0 pruned nodes, max_depth=5\u001b[0m\n",
      "\u001b[34m[152]#011train-error:0.014021\u001b[0m\n",
      "\u001b[34m[11:39:53] src/tree/updater_prune.cc:74: tree pruning end, 1 roots, 30 extra nodes, 0 pruned nodes, max_depth=5\u001b[0m\n",
      "\u001b[34m[153]#011train-error:0.014061\u001b[0m\n",
      "\u001b[34m[11:39:53] src/tree/updater_prune.cc:74: tree pruning end, 1 roots, 26 extra nodes, 0 pruned nodes, max_depth=5\u001b[0m\n",
      "\u001b[34m[154]#011train-error:0.014021\u001b[0m\n",
      "\u001b[34m[11:39:53] src/tree/updater_prune.cc:74: tree pruning end, 1 roots, 46 extra nodes, 0 pruned nodes, max_depth=5\u001b[0m\n",
      "\u001b[34m[155]#011train-error:0.014002\u001b[0m\n",
      "\u001b[34m[11:39:53] src/tree/updater_prune.cc:74: tree pruning end, 1 roots, 54 extra nodes, 0 pruned nodes, max_depth=5\u001b[0m\n",
      "\u001b[34m[156]#011train-error:0.013982\u001b[0m\n",
      "\u001b[34m[11:39:53] src/tree/updater_prune.cc:74: tree pruning end, 1 roots, 44 extra nodes, 0 pruned nodes, max_depth=5\u001b[0m\n",
      "\u001b[34m[157]#011train-error:0.013982\u001b[0m\n",
      "\u001b[34m[11:39:53] src/tree/updater_prune.cc:74: tree pruning end, 1 roots, 26 extra nodes, 0 pruned nodes, max_depth=5\u001b[0m\n",
      "\u001b[34m[158]#011train-error:0.013962\u001b[0m\n",
      "\u001b[34m[11:39:53] src/tree/updater_prune.cc:74: tree pruning end, 1 roots, 38 extra nodes, 0 pruned nodes, max_depth=5\u001b[0m\n",
      "\u001b[34m[159]#011train-error:0.013962\u001b[0m\n",
      "\u001b[34m[11:39:54] src/tree/updater_prune.cc:74: tree pruning end, 1 roots, 42 extra nodes, 0 pruned nodes, max_depth=5\u001b[0m\n",
      "\u001b[34m[160]#011train-error:0.013962\u001b[0m\n",
      "\u001b[34m[11:39:54] src/tree/updater_prune.cc:74: tree pruning end, 1 roots, 14 extra nodes, 0 pruned nodes, max_depth=5\u001b[0m\n",
      "\u001b[34m[161]#011train-error:0.013962\u001b[0m\n",
      "\u001b[34m[11:39:54] src/tree/updater_prune.cc:74: tree pruning end, 1 roots, 30 extra nodes, 0 pruned nodes, max_depth=5\u001b[0m\n",
      "\u001b[34m[162]#011train-error:0.013962\u001b[0m\n",
      "\u001b[34m[11:39:54] src/tree/updater_prune.cc:74: tree pruning end, 1 roots, 24 extra nodes, 0 pruned nodes, max_depth=5\u001b[0m\n",
      "\u001b[34m[163]#011train-error:0.013942\u001b[0m\n",
      "\u001b[34m[11:39:54] src/tree/updater_prune.cc:74: tree pruning end, 1 roots, 14 extra nodes, 0 pruned nodes, max_depth=5\u001b[0m\n",
      "\u001b[34m[164]#011train-error:0.013923\u001b[0m\n",
      "\u001b[34m[11:39:54] src/tree/updater_prune.cc:74: tree pruning end, 1 roots, 36 extra nodes, 0 pruned nodes, max_depth=5\u001b[0m\n",
      "\u001b[34m[165]#011train-error:0.013883\u001b[0m\n",
      "\u001b[34m[11:39:54] src/tree/updater_prune.cc:74: tree pruning end, 1 roots, 28 extra nodes, 0 pruned nodes, max_depth=5\u001b[0m\n",
      "\u001b[34m[166]#011train-error:0.013844\u001b[0m\n",
      "\u001b[34m[11:39:55] src/tree/updater_prune.cc:74: tree pruning end, 1 roots, 22 extra nodes, 0 pruned nodes, max_depth=5\u001b[0m\n",
      "\u001b[34m[167]#011train-error:0.013844\u001b[0m\n",
      "\u001b[34m[11:39:55] src/tree/updater_prune.cc:74: tree pruning end, 1 roots, 48 extra nodes, 0 pruned nodes, max_depth=5\u001b[0m\n",
      "\u001b[34m[168]#011train-error:0.013863\u001b[0m\n",
      "\u001b[34m[11:39:55] src/tree/updater_prune.cc:74: tree pruning end, 1 roots, 24 extra nodes, 0 pruned nodes, max_depth=5\u001b[0m\n",
      "\u001b[34m[169]#011train-error:0.013863\u001b[0m\n",
      "\u001b[34m[11:39:55] src/tree/updater_prune.cc:74: tree pruning end, 1 roots, 34 extra nodes, 0 pruned nodes, max_depth=5\u001b[0m\n",
      "\u001b[34m[170]#011train-error:0.013824\u001b[0m\n",
      "\u001b[34m[11:39:55] src/tree/updater_prune.cc:74: tree pruning end, 1 roots, 44 extra nodes, 0 pruned nodes, max_depth=5\u001b[0m\n",
      "\u001b[34m[171]#011train-error:0.013824\u001b[0m\n",
      "\u001b[34m[11:39:55] src/tree/updater_prune.cc:74: tree pruning end, 1 roots, 40 extra nodes, 0 pruned nodes, max_depth=5\u001b[0m\n",
      "\u001b[34m[172]#011train-error:0.013824\u001b[0m\n",
      "\u001b[34m[11:39:56] src/tree/updater_prune.cc:74: tree pruning end, 1 roots, 40 extra nodes, 0 pruned nodes, max_depth=5\u001b[0m\n",
      "\u001b[34m[173]#011train-error:0.013824\u001b[0m\n",
      "\u001b[34m[11:39:56] src/tree/updater_prune.cc:74: tree pruning end, 1 roots, 52 extra nodes, 0 pruned nodes, max_depth=5\u001b[0m\n",
      "\u001b[34m[174]#011train-error:0.013804\u001b[0m\n",
      "\u001b[34m[11:39:56] src/tree/updater_prune.cc:74: tree pruning end, 1 roots, 32 extra nodes, 0 pruned nodes, max_depth=5\u001b[0m\n",
      "\u001b[34m[175]#011train-error:0.013804\u001b[0m\n",
      "\u001b[34m[11:39:56] src/tree/updater_prune.cc:74: tree pruning end, 1 roots, 48 extra nodes, 0 pruned nodes, max_depth=5\u001b[0m\n",
      "\u001b[34m[176]#011train-error:0.013784\u001b[0m\n",
      "\u001b[34m[11:39:56] src/tree/updater_prune.cc:74: tree pruning end, 1 roots, 34 extra nodes, 0 pruned nodes, max_depth=5\u001b[0m\n",
      "\u001b[34m[177]#011train-error:0.013784\u001b[0m\n",
      "\u001b[34m[11:39:56] src/tree/updater_prune.cc:74: tree pruning end, 1 roots, 30 extra nodes, 0 pruned nodes, max_depth=5\u001b[0m\n",
      "\u001b[34m[178]#011train-error:0.013804\u001b[0m\n",
      "\u001b[34m[11:39:56] src/tree/updater_prune.cc:74: tree pruning end, 1 roots, 48 extra nodes, 0 pruned nodes, max_depth=5\u001b[0m\n",
      "\u001b[34m[179]#011train-error:0.013784\u001b[0m\n",
      "\u001b[34m[11:39:57] src/tree/updater_prune.cc:74: tree pruning end, 1 roots, 32 extra nodes, 0 pruned nodes, max_depth=5\u001b[0m\n",
      "\u001b[34m[180]#011train-error:0.013784\u001b[0m\n",
      "\u001b[34m[11:39:57] src/tree/updater_prune.cc:74: tree pruning end, 1 roots, 48 extra nodes, 0 pruned nodes, max_depth=5\u001b[0m\n",
      "\u001b[34m[181]#011train-error:0.013765\u001b[0m\n",
      "\u001b[34m[11:39:57] src/tree/updater_prune.cc:74: tree pruning end, 1 roots, 14 extra nodes, 0 pruned nodes, max_depth=5\u001b[0m\n",
      "\u001b[34m[182]#011train-error:0.013765\u001b[0m\n",
      "\u001b[34m[11:39:57] src/tree/updater_prune.cc:74: tree pruning end, 1 roots, 20 extra nodes, 0 pruned nodes, max_depth=5\u001b[0m\n",
      "\u001b[34m[183]#011train-error:0.013745\u001b[0m\n",
      "\u001b[34m[11:39:57] src/tree/updater_prune.cc:74: tree pruning end, 1 roots, 38 extra nodes, 0 pruned nodes, max_depth=5\u001b[0m\n",
      "\u001b[34m[184]#011train-error:0.013745\u001b[0m\n",
      "\u001b[34m[11:39:57] src/tree/updater_prune.cc:74: tree pruning end, 1 roots, 30 extra nodes, 0 pruned nodes, max_depth=5\u001b[0m\n",
      "\u001b[34m[185]#011train-error:0.013745\u001b[0m\n",
      "\u001b[34m[11:39:58] src/tree/updater_prune.cc:74: tree pruning end, 1 roots, 28 extra nodes, 0 pruned nodes, max_depth=5\u001b[0m\n",
      "\u001b[34m[186]#011train-error:0.013686\u001b[0m\n",
      "\u001b[34m[11:39:58] src/tree/updater_prune.cc:74: tree pruning end, 1 roots, 44 extra nodes, 0 pruned nodes, max_depth=5\u001b[0m\n",
      "\u001b[34m[187]#011train-error:0.013705\u001b[0m\n",
      "\u001b[34m[11:39:58] src/tree/updater_prune.cc:74: tree pruning end, 1 roots, 28 extra nodes, 0 pruned nodes, max_depth=5\u001b[0m\n",
      "\u001b[34m[188]#011train-error:0.013686\u001b[0m\n",
      "\u001b[34m[11:39:58] src/tree/updater_prune.cc:74: tree pruning end, 1 roots, 32 extra nodes, 0 pruned nodes, max_depth=5\u001b[0m\n",
      "\u001b[34m[189]#011train-error:0.013686\u001b[0m\n",
      "\u001b[34m[11:39:58] src/tree/updater_prune.cc:74: tree pruning end, 1 roots, 28 extra nodes, 0 pruned nodes, max_depth=5\u001b[0m\n",
      "\u001b[34m[190]#011train-error:0.013666\u001b[0m\n",
      "\u001b[34m[11:39:58] src/tree/updater_prune.cc:74: tree pruning end, 1 roots, 22 extra nodes, 0 pruned nodes, max_depth=5\u001b[0m\n",
      "\u001b[34m[191]#011train-error:0.013666\u001b[0m\n",
      "\u001b[34m[11:39:58] src/tree/updater_prune.cc:74: tree pruning end, 1 roots, 52 extra nodes, 0 pruned nodes, max_depth=5\u001b[0m\n",
      "\u001b[34m[192]#011train-error:0.013666\u001b[0m\n",
      "\u001b[34m[11:39:59] src/tree/updater_prune.cc:74: tree pruning end, 1 roots, 36 extra nodes, 0 pruned nodes, max_depth=5\u001b[0m\n",
      "\u001b[34m[193]#011train-error:0.013646\u001b[0m\n",
      "\u001b[34m[11:39:59] src/tree/updater_prune.cc:74: tree pruning end, 1 roots, 14 extra nodes, 0 pruned nodes, max_depth=5\u001b[0m\n",
      "\u001b[34m[194]#011train-error:0.013646\u001b[0m\n",
      "\u001b[34m[11:39:59] src/tree/updater_prune.cc:74: tree pruning end, 1 roots, 34 extra nodes, 0 pruned nodes, max_depth=5\u001b[0m\n",
      "\u001b[34m[195]#011train-error:0.013607\u001b[0m\n",
      "\u001b[34m[11:39:59] src/tree/updater_prune.cc:74: tree pruning end, 1 roots, 40 extra nodes, 0 pruned nodes, max_depth=5\u001b[0m\n",
      "\u001b[34m[196]#011train-error:0.013607\u001b[0m\n",
      "\u001b[34m[11:39:59] src/tree/updater_prune.cc:74: tree pruning end, 1 roots, 30 extra nodes, 0 pruned nodes, max_depth=5\u001b[0m\n",
      "\u001b[34m[197]#011train-error:0.013607\u001b[0m\n",
      "\u001b[34m[11:39:59] src/tree/updater_prune.cc:74: tree pruning end, 1 roots, 50 extra nodes, 0 pruned nodes, max_depth=5\u001b[0m\n",
      "\u001b[34m[198]#011train-error:0.013528\u001b[0m\n",
      "\u001b[34m[11:39:59] src/tree/updater_prune.cc:74: tree pruning end, 1 roots, 34 extra nodes, 0 pruned nodes, max_depth=5\u001b[0m\n",
      "\u001b[34m[199]#011train-error:0.013528\u001b[0m\n",
      "\n",
      "2022-11-14 11:40:33 Uploading - Uploading generated training model\n",
      "2022-11-14 11:40:33 Completed - Training job completed\n",
      "ProfilerReport-1668425760: NoIssuesFound\n",
      "Training seconds: 107\n",
      "Billable seconds: 107\n"
     ]
    }
   ],
   "source": [
    "est_xgb_base.fit({'train' : train_input})"
   ]
  },
  {
   "cell_type": "markdown",
   "metadata": {},
   "source": [
    "### (4-a) Load test data labels from Jupyter NB instance (csv)"
   ]
  },
  {
   "cell_type": "code",
   "execution_count": 65,
   "metadata": {},
   "outputs": [],
   "source": [
    "travel_insurance_df_test_y = pd.read_csv(data_dir + '/' + 'test_y.csv')"
   ]
  },
  {
   "cell_type": "markdown",
   "metadata": {},
   "source": [
    "### (4-b) Test RF baseline model with batch transform (SageMaker Python SDK)"
   ]
  },
  {
   "cell_type": "markdown",
   "metadata": {},
   "source": [
    "##### Batch transform with SageMaker SDK (needs estimator_obj in notebook environment)"
   ]
  },
  {
   "cell_type": "code",
   "execution_count": 21,
   "metadata": {},
   "outputs": [
    {
     "name": "stdout",
     "output_type": "stream",
     "text": [
      ".................................\n",
      "\u001b[34m2022-11-14 08:52:59,688 INFO - sagemaker-containers - No GPUs detected (normal if no gpus installed)\u001b[0m\n",
      "\u001b[34m2022-11-14 08:52:59,691 INFO - sagemaker-containers - No GPUs detected (normal if no gpus installed)\u001b[0m\n",
      "\u001b[34m2022-11-14 08:52:59,692 INFO - sagemaker-containers - nginx config: \u001b[0m\n",
      "\u001b[34mworker_processes auto;\u001b[0m\n",
      "\u001b[34mdaemon off;\u001b[0m\n",
      "\u001b[34mpid /tmp/nginx.pid;\u001b[0m\n",
      "\u001b[34merror_log  /dev/stderr;\u001b[0m\n",
      "\u001b[34mworker_rlimit_nofile 4096;\u001b[0m\n",
      "\u001b[34mevents {\n",
      "  worker_connections 2048;\u001b[0m\n",
      "\u001b[34m}\u001b[0m\n",
      "\u001b[34mhttp {\n",
      "  include /etc/nginx/mime.types;\n",
      "  default_type application/octet-stream;\n",
      "  access_log /dev/stdout combined;\n",
      "  upstream gunicorn {\n",
      "    server unix:/tmp/gunicorn.sock;\n",
      "  }\n",
      "  server {\n",
      "    listen 8080 deferred;\n",
      "    client_max_body_size 0;\n",
      "    keepalive_timeout 3;\n",
      "    location ~ ^/(ping|invocations|execution-parameters) {\n",
      "      proxy_set_header X-Forwarded-For $proxy_add_x_forwarded_for;\n",
      "      proxy_set_header Host $http_host;\n",
      "      proxy_redirect off;\n",
      "      proxy_read_timeout 60s;\n",
      "      proxy_pass http://gunicorn;\n",
      "    }\n",
      "    location / {\n",
      "      return 404 \"{}\";\n",
      "    }\n",
      "  }\u001b[0m\n",
      "\u001b[34m}\u001b[0m\n",
      "\u001b[34m2022-11-14 08:52:59,920 INFO - sagemaker-containers - Module train_rf does not provide a setup.py. \u001b[0m\n",
      "\u001b[34mGenerating setup.py\u001b[0m\n",
      "\u001b[34m2022-11-14 08:52:59,920 INFO - sagemaker-containers - Generating setup.cfg\u001b[0m\n",
      "\u001b[34m2022-11-14 08:52:59,920 INFO - sagemaker-containers - Generating MANIFEST.in\u001b[0m\n",
      "\u001b[34m2022-11-14 08:52:59,920 INFO - sagemaker-containers - Installing module with the following command:\u001b[0m\n",
      "\u001b[34m/miniconda3/bin/python3 -m pip install . \u001b[0m\n",
      "\u001b[34mProcessing /opt/ml/code\n",
      "  Preparing metadata (setup.py): started\n",
      "  Preparing metadata (setup.py): finished with status 'done'\u001b[0m\n",
      "\u001b[34mBuilding wheels for collected packages: train-rf\n",
      "  Building wheel for train-rf (setup.py): started\n",
      "  Building wheel for train-rf (setup.py): finished with status 'done'\n",
      "  Created wheel for train-rf: filename=train_rf-1.0.0-py2.py3-none-any.whl size=6535 sha256=c1f0aa3f0b0ed42e74b39af5f18d40e291aacfa612fd2f78a51ab2e76f7df3e9\n",
      "  Stored in directory: /home/model-server/tmp/pip-ephem-wheel-cache-z79936wz/wheels/3e/0f/51/2f1df833dd0412c1bc2f5ee56baac195b5be563353d111dca6\u001b[0m\n",
      "\u001b[34mSuccessfully built train-rf\u001b[0m\n",
      "\u001b[34mInstalling collected packages: train-rf\u001b[0m\n",
      "\u001b[34mSuccessfully installed train-rf-1.0.0\u001b[0m\n",
      "\u001b[34mWARNING: Running pip as the 'root' user can result in broken permissions and conflicting behaviour with the system package manager. It is recommended to use a virtual environment instead: https://pip.pypa.io/warnings/venv\u001b[0m\n",
      "\u001b[34m[notice] A new release of pip available: 22.2.2 -> 22.3.1\u001b[0m\n",
      "\u001b[34m[notice] To update, run: pip install --upgrade pip\u001b[0m\n",
      "\u001b[34m[2022-11-14 08:53:02 +0000] [37] [INFO] Starting gunicorn 20.0.4\u001b[0m\n",
      "\u001b[34m[2022-11-14 08:53:02 +0000] [37] [INFO] Listening at: unix:/tmp/gunicorn.sock (37)\u001b[0m\n",
      "\u001b[34m[2022-11-14 08:53:02 +0000] [37] [INFO] Using worker: gevent\u001b[0m\n",
      "\u001b[34m[2022-11-14 08:53:02 +0000] [40] [INFO] Booting worker with pid: 40\u001b[0m\n",
      "\u001b[34m[2022-11-14 08:53:03 +0000] [41] [INFO] Booting worker with pid: 41\u001b[0m\n",
      "\u001b[34m[2022-11-14 08:53:03 +0000] [42] [INFO] Booting worker with pid: 42\u001b[0m\n",
      "\u001b[34m[2022-11-14 08:53:03 +0000] [43] [INFO] Booting worker with pid: 43\u001b[0m\n",
      "\u001b[34m2022-11-14 08:53:06,531 INFO - sagemaker-containers - No GPUs detected (normal if no gpus installed)\u001b[0m\n",
      "\u001b[34mLoading model.\u001b[0m\n",
      "\u001b[34mDone loading model.\u001b[0m\n",
      "\u001b[34m169.254.255.130 - - [14/Nov/2022:08:53:07 +0000] \"GET /ping HTTP/1.1\" 200 0 \"-\" \"Go-http-client/1.1\"\u001b[0m\n",
      "\u001b[34m169.254.255.130 - - [14/Nov/2022:08:53:07 +0000] \"GET /execution-parameters HTTP/1.1\" 404 232 \"-\" \"Go-http-client/1.1\"\u001b[0m\n",
      "\u001b[34m2022-11-14 08:53:07,480 INFO - sagemaker-containers - No GPUs detected (normal if no gpus installed)\u001b[0m\n",
      "\u001b[34mLoading model.\u001b[0m\n",
      "\u001b[34mDone loading model.\u001b[0m\n",
      "\u001b[34m169.254.255.130 - - [14/Nov/2022:08:53:09 +0000] \"POST /invocations HTTP/1.1\" 200 37980 \"-\" \"Go-http-client/1.1\"\u001b[0m\n",
      "\u001b[32m2022-11-14T08:53:07.283:[sagemaker logs]: MaxConcurrentTransforms=1, MaxPayloadInMB=6, BatchStrategy=MULTI_RECORD\u001b[0m\n"
     ]
    }
   ],
   "source": [
    "transform_rf_base = est_rf_base.transformer(instance_count = 1, \n",
    "                                            instance_type = 'ml.m4.xlarge')\n",
    "transform_rf_base.transform(test_path_s3, content_type = 'text/csv', split_type = 'Line')"
   ]
  },
  {
   "cell_type": "code",
   "execution_count": 23,
   "metadata": {},
   "outputs": [
    {
     "data": {
      "text/plain": [
       "'s3://sagemaker-eu-central-1-821983426621/sagemaker-scikit-learn-2022-11-14-08-47-42-530'"
      ]
     },
     "execution_count": 23,
     "metadata": {},
     "output_type": "execute_result"
    }
   ],
   "source": [
    "transform_rf_base.output_path"
   ]
  },
  {
   "cell_type": "code",
   "execution_count": 176,
   "metadata": {},
   "outputs": [
    {
     "name": "stdout",
     "output_type": "stream",
     "text": [
      "download: s3://sagemaker-eu-central-1-821983426621/sagemaker-scikit-learn-2022-11-14-08-47-42-530/test.csv.out to data/test.csv.out\n"
     ]
    }
   ],
   "source": [
    "# Copy predictions from batch transform job to Jupyter NB instance folder & rename file\n",
    "!aws s3 cp --recursive $transform_rf_base.output_path $data_dir\n",
    "!mv data/test.csv.out data/base_rf_test.csv.out"
   ]
  },
  {
   "cell_type": "code",
   "execution_count": 182,
   "metadata": {},
   "outputs": [],
   "source": [
    "predict_rf_base = pd.read_csv(os.path.join(data_dir, 'base_rf_test.csv.out'), header=None)"
   ]
  },
  {
   "cell_type": "code",
   "execution_count": 183,
   "metadata": {},
   "outputs": [
    {
     "data": {
      "text/html": [
       "<div>\n",
       "<style scoped>\n",
       "    .dataframe tbody tr th:only-of-type {\n",
       "        vertical-align: middle;\n",
       "    }\n",
       "\n",
       "    .dataframe tbody tr th {\n",
       "        vertical-align: top;\n",
       "    }\n",
       "\n",
       "    .dataframe thead th {\n",
       "        text-align: right;\n",
       "    }\n",
       "</style>\n",
       "<table border=\"1\" class=\"dataframe\">\n",
       "  <thead>\n",
       "    <tr style=\"text-align: right;\">\n",
       "      <th></th>\n",
       "      <th>0</th>\n",
       "      <th>1</th>\n",
       "      <th>2</th>\n",
       "      <th>3</th>\n",
       "      <th>4</th>\n",
       "      <th>5</th>\n",
       "      <th>6</th>\n",
       "      <th>7</th>\n",
       "      <th>8</th>\n",
       "      <th>9</th>\n",
       "      <th>...</th>\n",
       "      <th>12650</th>\n",
       "      <th>12651</th>\n",
       "      <th>12652</th>\n",
       "      <th>12653</th>\n",
       "      <th>12654</th>\n",
       "      <th>12655</th>\n",
       "      <th>12656</th>\n",
       "      <th>12657</th>\n",
       "      <th>12658</th>\n",
       "      <th>12659</th>\n",
       "    </tr>\n",
       "  </thead>\n",
       "  <tbody>\n",
       "    <tr>\n",
       "      <th>0</th>\n",
       "      <td>[0</td>\n",
       "      <td>0</td>\n",
       "      <td>0</td>\n",
       "      <td>0</td>\n",
       "      <td>0</td>\n",
       "      <td>0</td>\n",
       "      <td>0</td>\n",
       "      <td>0</td>\n",
       "      <td>0</td>\n",
       "      <td>0</td>\n",
       "      <td>...</td>\n",
       "      <td>0</td>\n",
       "      <td>0</td>\n",
       "      <td>0</td>\n",
       "      <td>0</td>\n",
       "      <td>0</td>\n",
       "      <td>0</td>\n",
       "      <td>0</td>\n",
       "      <td>0</td>\n",
       "      <td>0</td>\n",
       "      <td>0]</td>\n",
       "    </tr>\n",
       "  </tbody>\n",
       "</table>\n",
       "<p>1 rows × 12660 columns</p>\n",
       "</div>"
      ],
      "text/plain": [
       "  0      1      2      3      4      5      6      7      8      9      ...  \\\n",
       "0    [0      0      0      0      0      0      0      0      0      0  ...   \n",
       "\n",
       "   12650  12651  12652  12653  12654  12655  12656  12657  12658  12659  \n",
       "0      0      0      0      0      0      0      0      0      0     0]  \n",
       "\n",
       "[1 rows x 12660 columns]"
      ]
     },
     "execution_count": 183,
     "metadata": {},
     "output_type": "execute_result"
    }
   ],
   "source": [
    "predict_rf_base"
   ]
  },
  {
   "cell_type": "code",
   "execution_count": 184,
   "metadata": {},
   "outputs": [],
   "source": [
    "predict_rf_base = predict_rf_base.transpose()\n",
    "predict_rf_base = predict_rf_base.replace('[0','0')\n",
    "predict_rf_base = predict_rf_base.replace(' 0]','0')\n",
    "predict_rf_base = predict_rf_base.astype('int64')"
   ]
  },
  {
   "cell_type": "code",
   "execution_count": 163,
   "metadata": {},
   "outputs": [
    {
     "name": "stdout",
     "output_type": "stream",
     "text": [
      "Accuracy RF (baseline model) is: 0.9852\n",
      "Recall RF (baseline model) is: 0.0\n"
     ]
    }
   ],
   "source": [
    "print('Accuracy RF (baseline model) is: ' + str(round(accuracy_score(travel_insurance_df_test_y, predict_xgb_base),4)))\n",
    "print('Recall RF (baseline model) is: ' + str(round(recall_score(travel_insurance_df_test_y, predict_xgb_base),4)))"
   ]
  },
  {
   "cell_type": "markdown",
   "metadata": {},
   "source": [
    "### (4-c) Test XGBOOST baseline model with batch transform (SageMaker Python SDK)"
   ]
  },
  {
   "cell_type": "code",
   "execution_count": null,
   "metadata": {},
   "outputs": [],
   "source": [
    "training_job_name = est_xgb_base._current_job_name"
   ]
  },
  {
   "cell_type": "code",
   "execution_count": 103,
   "metadata": {},
   "outputs": [
    {
     "name": "stdout",
     "output_type": "stream",
     "text": [
      "..................................\u001b[34mArguments: serve\u001b[0m\n",
      "\u001b[34m[2022-11-14 12:45:06 +0000] [1] [INFO] Starting gunicorn 19.9.0\u001b[0m\n",
      "\u001b[34m[2022-11-14 12:45:06 +0000] [1] [INFO] Listening at: http://0.0.0.0:8080 (1)\u001b[0m\n",
      "\u001b[34m[2022-11-14 12:45:06 +0000] [1] [INFO] Using worker: gevent\u001b[0m\n",
      "\u001b[34m[2022-11-14 12:45:06 +0000] [21] [INFO] Booting worker with pid: 21\u001b[0m\n",
      "\u001b[34m[2022-11-14 12:45:06 +0000] [22] [INFO] Booting worker with pid: 22\u001b[0m\n",
      "\u001b[34m[2022-11-14 12:45:06 +0000] [23] [INFO] Booting worker with pid: 23\u001b[0m\n",
      "\u001b[34m[2022-11-14 12:45:06 +0000] [24] [INFO] Booting worker with pid: 24\u001b[0m\n",
      "\u001b[34m/opt/amazon/lib/python3.7/site-packages/gunicorn/workers/ggevent.py:65: MonkeyPatchWarning: Monkey-patching ssl after ssl has already been imported may lead to errors, including RecursionError on Python 3.6. It may also silently lead to incorrect behaviour on Python 3.7. Please monkey-patch earlier. See https://github.com/gevent/gevent/issues/1016. Modules that had direct imports (NOT patched): ['urllib3.util.ssl_ (/opt/amazon/lib/python3.7/site-packages/urllib3/util/ssl_.py)', 'urllib3.util (/opt/amazon/lib/python3.7/site-packages/urllib3/util/__init__.py)']. \n",
      "  monkey.patch_all(subprocess=True)\u001b[0m\n",
      "\u001b[34m[2022-11-14:12:45:06:INFO] Model loaded successfully for worker : 21\u001b[0m\n",
      "\u001b[34m/opt/amazon/lib/python3.7/site-packages/gunicorn/workers/ggevent.py:65: MonkeyPatchWarning: Monkey-patching ssl after ssl has already been imported may lead to errors, including RecursionError on Python 3.6. It may also silently lead to incorrect behaviour on Python 3.7. Please monkey-patch earlier. See https://github.com/gevent/gevent/issues/1016. Modules that had direct imports (NOT patched): ['urllib3.util.ssl_ (/opt/amazon/lib/python3.7/site-packages/urllib3/util/ssl_.py)', 'urllib3.util (/opt/amazon/lib/python3.7/site-packages/urllib3/util/__init__.py)']. \n",
      "  monkey.patch_all(subprocess=True)\u001b[0m\n",
      "\u001b[34m[2022-11-14:12:45:07:INFO] Model loaded successfully for worker : 22\u001b[0m\n",
      "\u001b[34m/opt/amazon/lib/python3.7/site-packages/gunicorn/workers/ggevent.py:65: MonkeyPatchWarning: Monkey-patching ssl after ssl has already been imported may lead to errors, including RecursionError on Python 3.6. It may also silently lead to incorrect behaviour on Python 3.7. Please monkey-patch earlier. See https://github.com/gevent/gevent/issues/1016. Modules that had direct imports (NOT patched): ['urllib3.util.ssl_ (/opt/amazon/lib/python3.7/site-packages/urllib3/util/ssl_.py)', 'urllib3.util (/opt/amazon/lib/python3.7/site-packages/urllib3/util/__init__.py)']. \n",
      "  monkey.patch_all(subprocess=True)\u001b[0m\n",
      "\u001b[34m[2022-11-14:12:45:07:INFO] Model loaded successfully for worker : 23\u001b[0m\n",
      "\u001b[34m/opt/amazon/lib/python3.7/site-packages/gunicorn/workers/ggevent.py:65: MonkeyPatchWarning: Monkey-patching ssl after ssl has already been imported may lead to errors, including RecursionError on Python 3.6. It may also silently lead to incorrect behaviour on Python 3.7. Please monkey-patch earlier. See https://github.com/gevent/gevent/issues/1016. Modules that had direct imports (NOT patched): ['urllib3.util.ssl_ (/opt/amazon/lib/python3.7/site-packages/urllib3/util/ssl_.py)', 'urllib3.util (/opt/amazon/lib/python3.7/site-packages/urllib3/util/__init__.py)']. \n",
      "  monkey.patch_all(subprocess=True)\u001b[0m\n",
      "\u001b[34m[2022-11-14:12:45:07:INFO] Model loaded successfully for worker : 24\u001b[0m\n",
      "\u001b[32m2022-11-14T12:45:11.074:[sagemaker logs]: MaxConcurrentTransforms=4, MaxPayloadInMB=6, BatchStrategy=MULTI_RECORD\u001b[0m\n",
      "\u001b[34m[2022-11-14:12:45:11:INFO] Sniff delimiter as ','\u001b[0m\n",
      "\u001b[35m[2022-11-14:12:45:11:INFO] Sniff delimiter as ','\u001b[0m\n",
      "\u001b[34m[2022-11-14:12:45:11:INFO] Determined delimiter of CSV input is ','\u001b[0m\n",
      "\u001b[35m[2022-11-14:12:45:11:INFO] Determined delimiter of CSV input is ','\u001b[0m\n",
      "\n"
     ]
    }
   ],
   "source": [
    "transform_xgb_base = est_xgb_base.transformer(instance_count = 1, \n",
    "                                              instance_type = 'ml.m4.xlarge')\n",
    "transform_xgb_base.transform(test_path_s3, content_type = 'text/csv', split_type = 'Line')"
   ]
  },
  {
   "cell_type": "code",
   "execution_count": 104,
   "metadata": {},
   "outputs": [
    {
     "data": {
      "text/plain": [
       "'s3://sagemaker-eu-central-1-821983426621/xgboost-2022-11-14-12-39-30-471'"
      ]
     },
     "execution_count": 104,
     "metadata": {},
     "output_type": "execute_result"
    }
   ],
   "source": [
    "transform_xgb_base.output_path"
   ]
  },
  {
   "cell_type": "code",
   "execution_count": 177,
   "metadata": {},
   "outputs": [
    {
     "name": "stdout",
     "output_type": "stream",
     "text": [
      "download: s3://sagemaker-eu-central-1-821983426621/xgboost-2022-11-14-12-39-30-471/test.csv.out to data/test.csv.out\n"
     ]
    }
   ],
   "source": [
    "# Copy predictions from batch transform job to Jupyter NB instance folder & rename file\n",
    "!aws s3 cp --recursive $transform_xgb_base.output_path $data_dir\n",
    "!mv data/test.csv.out data/base_xgb_test.csv.out"
   ]
  },
  {
   "cell_type": "code",
   "execution_count": 180,
   "metadata": {},
   "outputs": [],
   "source": [
    "predict_xgb_base = pd.read_csv(os.path.join(data_dir, 'base_xgb_test.csv.out'), header=None)\n",
    "predict_xgb_base['Claim_Pred'] = np.where(predict_xgb_base[0] > 0.2, 1, 0)\n",
    "predict_xgb_base = predict_xgb_base.drop(0, axis = 1)"
   ]
  },
  {
   "cell_type": "code",
   "execution_count": 181,
   "metadata": {},
   "outputs": [
    {
     "name": "stdout",
     "output_type": "stream",
     "text": [
      "Accuracy RF (baseline model) is: 0.9803\n",
      "Recall RF (baseline model) is: 0.0378\n"
     ]
    }
   ],
   "source": [
    "print('Accuracy RF (baseline model) is: ' + str(round(accuracy_score(travel_insurance_df_test_y, predict_xgb_base),4)))\n",
    "print('Recall RF (baseline model) is: ' + str(round(recall_score(travel_insurance_df_test_y, predict_xgb_base),4)))"
   ]
  },
  {
   "cell_type": "markdown",
   "metadata": {},
   "source": [
    "### (4-d) Test RF baseline model with batch transform (AWS SDK boto3)"
   ]
  },
  {
   "cell_type": "code",
   "execution_count": 174,
   "metadata": {},
   "outputs": [
    {
     "data": {
      "text/plain": [
       "'sagemaker-scikit-learn-2022-11-14-08-15-04-646'"
      ]
     },
     "execution_count": 174,
     "metadata": {},
     "output_type": "execute_result"
    }
   ],
   "source": [
    "training_job_name = est_rf_base._current_job_name\n",
    "training_job_name"
   ]
  },
  {
   "cell_type": "code",
   "execution_count": 175,
   "metadata": {},
   "outputs": [],
   "source": [
    "training_job_info = sm_session.sagemaker_client.describe_training_job(TrainingJobName = training_job_name)\n",
    "model_artifacts_paths3 = training_job_info['ModelArtifacts']['S3ModelArtifacts']\n",
    "training_image = training_job_info['AlgorithmSpecification']['TrainingImage']"
   ]
  },
  {
   "cell_type": "code",
   "execution_count": null,
   "metadata": {},
   "outputs": [],
   "source": [
    "primary_container = {\"Image\" : training_image, \n",
    "                     \"ModelDataUrl\" : model_artifacts_paths3}\n",
    "model_name= training_job_info['TrainingJobName'] + '-model'\n",
    "model_info = sm_session.sagemaker_client.create_model(ModelName = model_name,\n",
    "                                                      ExecutionRoleArn = sm_role,\n",
    "                                                      PrimaryContainer = primary_container)"
   ]
  },
  {
   "cell_type": "code",
   "execution_count": null,
   "metadata": {},
   "outputs": [],
   "source": [
    "transform_job_name = training_job_info['TrainingJobName'] + '-transform-job'\n",
    "transform_output_path = \"s3://{}/{}/batch-transform/\".format(sm_session.default_bucket(),prefix)"
   ]
  },
  {
   "cell_type": "code",
   "execution_count": null,
   "metadata": {},
   "outputs": [],
   "source": [
    "transform_request = {\n",
    "    \"TransformJobName\" : transform_job_name,\n",
    "    \"ModelName\" : model_name,\n",
    "    \"MaxConcurrentTransforms\": 1,\n",
    "    \"MaxPayloadInMB\" : 6,\n",
    "    \"BatchStrategy\" : \"MultiRecord\",\n",
    "    \"TransformOutput\" : {\n",
    "        \"S3OutputPath\" : transform_output_path\n",
    "    },\n",
    "    \"TransformInput\": {\n",
    "        \"ContentType\": \"text/csv\",\n",
    "        \"SplitType\": \"Line\",\n",
    "        \"DataSource\": {\n",
    "            \"S3DataSource\": {\n",
    "                \"S3DataType\": \"S3Prefix\",\n",
    "                \"S3Uri\": test_path_s3,\n",
    "            }\n",
    "        }\n",
    "    },\n",
    "    \"TransformResources\": {\n",
    "        \"InstanceType\": \"ml.m4.xlarge\",\n",
    "        \"InstanceCount\": 1\n",
    "    }\n",
    "}"
   ]
  },
  {
   "cell_type": "code",
   "execution_count": null,
   "metadata": {},
   "outputs": [],
   "source": [
    "transform_response = sm_session.sagemaker_client.create_transform_job(**transform_request)\n",
    "transform_desc = sm_session.wait_for_transform_job(transform_job_name)"
   ]
  },
  {
   "cell_type": "markdown",
   "metadata": {},
   "source": [
    "### (4-y) OLD: Test SVM baseline model with batch transform (SageMaker Python SDK)"
   ]
  },
  {
   "cell_type": "code",
   "execution_count": 67,
   "metadata": {},
   "outputs": [
    {
     "name": "stdout",
     "output_type": "stream",
     "text": [
      ".................................\u001b[34m2022-11-14 09:27:20,112 INFO - sagemaker-containers - No GPUs detected (normal if no gpus installed)\u001b[0m\n",
      "\u001b[34m2022-11-14 09:27:20,115 INFO - sagemaker-containers - No GPUs detected (normal if no gpus installed)\u001b[0m\n",
      "\u001b[34m2022-11-14 09:27:20,115 INFO - sagemaker-containers - nginx config: \u001b[0m\n",
      "\u001b[34mworker_processes auto;\u001b[0m\n",
      "\u001b[34mdaemon off;\u001b[0m\n",
      "\u001b[34mpid /tmp/nginx.pid;\u001b[0m\n",
      "\u001b[34merror_log  /dev/stderr;\u001b[0m\n",
      "\u001b[34mworker_rlimit_nofile 4096;\u001b[0m\n",
      "\u001b[34mevents {\n",
      "  worker_connections 2048;\u001b[0m\n",
      "\u001b[34m}\u001b[0m\n",
      "\u001b[34mhttp {\n",
      "  include /etc/nginx/mime.types;\n",
      "  default_type application/octet-stream;\n",
      "  access_log /dev/stdout combined;\n",
      "  upstream gunicorn {\n",
      "    server unix:/tmp/gunicorn.sock;\n",
      "  }\n",
      "  server {\n",
      "    listen 8080 deferred;\n",
      "    client_max_body_size 0;\n",
      "    keepalive_timeout 3;\n",
      "    location ~ ^/(ping|invocations|execution-parameters) {\n",
      "      proxy_set_header X-Forwarded-For $proxy_add_x_forwarded_for;\n",
      "      proxy_set_header Host $http_host;\n",
      "      proxy_redirect off;\n",
      "      proxy_read_timeout 60s;\n",
      "      proxy_pass http://gunicorn;\n",
      "    }\n",
      "    location / {\n",
      "      return 404 \"{}\";\n",
      "    }\n",
      "  }\u001b[0m\n",
      "\u001b[34m}\u001b[0m\n",
      "\u001b[34m2022-11-14 09:27:20,351 INFO - sagemaker-containers - Module train_svm does not provide a setup.py. \u001b[0m\n",
      "\u001b[34mGenerating setup.py\u001b[0m\n",
      "\u001b[34m2022-11-14 09:27:20,352 INFO - sagemaker-containers - Generating setup.cfg\u001b[0m\n",
      "\u001b[34m2022-11-14 09:27:20,352 INFO - sagemaker-containers - Generating MANIFEST.in\u001b[0m\n",
      "\u001b[34m2022-11-14 09:27:20,352 INFO - sagemaker-containers - Installing module with the following command:\u001b[0m\n",
      "\u001b[34m/miniconda3/bin/python3 -m pip install . \u001b[0m\n",
      "\u001b[34mProcessing /opt/ml/code\n",
      "  Preparing metadata (setup.py): started\n",
      "  Preparing metadata (setup.py): finished with status 'done'\u001b[0m\n",
      "\u001b[34mBuilding wheels for collected packages: train-svm\n",
      "  Building wheel for train-svm (setup.py): started\n",
      "  Building wheel for train-svm (setup.py): finished with status 'done'\n",
      "  Created wheel for train-svm: filename=train_svm-1.0.0-py2.py3-none-any.whl size=6555 sha256=d4665568189bcfe7f475fead70bf592216874c3455cb2535804c22f06f4aaea3\n",
      "  Stored in directory: /home/model-server/tmp/pip-ephem-wheel-cache-yr8u_rp0/wheels/3e/0f/51/2f1df833dd0412c1bc2f5ee56baac195b5be563353d111dca6\u001b[0m\n",
      "\u001b[34mSuccessfully built train-svm\u001b[0m\n",
      "\u001b[34mInstalling collected packages: train-svm\u001b[0m\n",
      "\u001b[34mSuccessfully installed train-svm-1.0.0\u001b[0m\n",
      "\u001b[34mWARNING: Running pip as the 'root' user can result in broken permissions and conflicting behaviour with the system package manager. It is recommended to use a virtual environment instead: https://pip.pypa.io/warnings/venv\u001b[0m\n",
      "\u001b[34m[notice] A new release of pip available: 22.2.2 -> 22.3.1\u001b[0m\n",
      "\u001b[34m[notice] To update, run: pip install --upgrade pip\u001b[0m\n",
      "\u001b[34m[2022-11-14 09:27:23 +0000] [37] [INFO] Starting gunicorn 20.0.4\u001b[0m\n",
      "\u001b[34m[2022-11-14 09:27:23 +0000] [37] [INFO] Listening at: unix:/tmp/gunicorn.sock (37)\u001b[0m\n",
      "\u001b[34m[2022-11-14 09:27:23 +0000] [37] [INFO] Using worker: gevent\u001b[0m\n",
      "\u001b[34m[2022-11-14 09:27:23 +0000] [40] [INFO] Booting worker with pid: 40\u001b[0m\n",
      "\u001b[34m[2022-11-14 09:27:23 +0000] [41] [INFO] Booting worker with pid: 41\u001b[0m\n",
      "\u001b[34m[2022-11-14 09:27:23 +0000] [42] [INFO] Booting worker with pid: 42\u001b[0m\n",
      "\u001b[34m[2022-11-14 09:27:23 +0000] [43] [INFO] Booting worker with pid: 43\u001b[0m\n",
      "\u001b[34m2022-11-14 09:27:26,935 INFO - sagemaker-containers - No GPUs detected (normal if no gpus installed)\u001b[0m\n",
      "\u001b[34mLoading model.\u001b[0m\n",
      "\u001b[34mDone loading model.\u001b[0m\n",
      "\u001b[34m169.254.255.130 - - [14/Nov/2022:09:27:27 +0000] \"GET /ping HTTP/1.1\" 200 0 \"-\" \"Go-http-client/1.1\"\u001b[0m\n",
      "\u001b[34m2022-11-14 09:27:27,651 INFO - sagemaker-containers - No GPUs detected (normal if no gpus installed)\u001b[0m\n",
      "\u001b[34mLoading model.\u001b[0m\n",
      "\u001b[34mDone loading model.\u001b[0m\n",
      "\u001b[34m169.254.255.130 - - [14/Nov/2022:09:27:28 +0000] \"GET /execution-parameters HTTP/1.1\" 404 232 \"-\" \"Go-http-client/1.1\"\u001b[0m\n",
      "\u001b[35mLoading model.\u001b[0m\n",
      "\u001b[35mDone loading model.\u001b[0m\n",
      "\u001b[35m169.254.255.130 - - [14/Nov/2022:09:27:28 +0000] \"GET /execution-parameters HTTP/1.1\" 404 232 \"-\" \"Go-http-client/1.1\"\u001b[0m\n",
      "\u001b[32m2022-11-14T09:27:28.328:[sagemaker logs]: MaxConcurrentTransforms=1, MaxPayloadInMB=6, BatchStrategy=MULTI_RECORD\u001b[0m\n",
      "\u001b[34m2022-11-14 09:28:28,639 INFO - sagemaker-containers - No GPUs detected (normal if no gpus installed)\u001b[0m\n",
      "\u001b[35m2022-11-14 09:28:28,639 INFO - sagemaker-containers - No GPUs detected (normal if no gpus installed)\u001b[0m\n",
      "\u001b[34mLoading model.\u001b[0m\n",
      "\u001b[34mDone loading model.\u001b[0m\n",
      "\u001b[34m[2022-11-14 09:28:29 +0000] [72] [INFO] Booting worker with pid: 72\u001b[0m\n",
      "\u001b[35mLoading model.\u001b[0m\n",
      "\u001b[35mDone loading model.\u001b[0m\n",
      "\u001b[35m[2022-11-14 09:28:29 +0000] [72] [INFO] Booting worker with pid: 72\u001b[0m\n",
      "\u001b[34m[2022-11-14 09:29:28 +0000] [77] [INFO] Booting worker with pid: 77\u001b[0m\n",
      "\u001b[34m2022-11-14 09:29:28,787 INFO - sagemaker-containers - No GPUs detected (normal if no gpus installed)\u001b[0m\n",
      "\u001b[35m[2022-11-14 09:29:28 +0000] [77] [INFO] Booting worker with pid: 77\u001b[0m\n",
      "\u001b[35m2022-11-14 09:29:28,787 INFO - sagemaker-containers - No GPUs detected (normal if no gpus installed)\u001b[0m\n",
      "\u001b[34mLoading model.\u001b[0m\n",
      "\u001b[34mDone loading model.\u001b[0m\n",
      "\u001b[35mLoading model.\u001b[0m\n",
      "\u001b[35mDone loading model.\u001b[0m\n",
      "\u001b[34m169.254.255.130 - - [14/Nov/2022:09:30:29 +0000] \"POST /invocations HTTP/1.1\" 504 192 \"-\" \"Go-http-client/1.1\"\u001b[0m\n",
      "\u001b[34m[2022-11-14 09:30:29 +0000] [86] [INFO] Booting worker with pid: 86\u001b[0m\n",
      "\u001b[35m169.254.255.130 - - [14/Nov/2022:09:30:29 +0000] \"POST /invocations HTTP/1.1\" 504 192 \"-\" \"Go-http-client/1.1\"\u001b[0m\n",
      "\u001b[35m[2022-11-14 09:30:29 +0000] [86] [INFO] Booting worker with pid: 86\u001b[0m\n",
      "\n",
      "\u001b[32m2022-11-14T09:31:29.702:[sagemaker logs]: sagemaker-eu-central-1-821983426621/travel_insurance_claim_data/test.csv: Bad HTTP status received from algorithm: 504\u001b[0m\n",
      "\u001b[34m169.254.255.130 - - [14/Nov/2022:09:31:29 +0000] \"POST /invocations HTTP/1.1\" 504 192 \"-\" \"Go-http-client/1.1\"\u001b[0m\n",
      "\u001b[35m169.254.255.130 - - [14/Nov/2022:09:31:29 +0000] \"POST /invocations HTTP/1.1\" 504 192 \"-\" \"Go-http-client/1.1\"\u001b[0m\n",
      "\u001b[32m2022-11-14T09:31:29.702:[sagemaker logs]: sagemaker-eu-central-1-821983426621/travel_insurance_claim_data/test.csv: \u001b[0m\n",
      "\u001b[32m2022-11-14T09:31:29.703:[sagemaker logs]: sagemaker-eu-central-1-821983426621/travel_insurance_claim_data/test.csv: Message:\u001b[0m\n",
      "\u001b[32m2022-11-14T09:31:29.703:[sagemaker logs]: sagemaker-eu-central-1-821983426621/travel_insurance_claim_data/test.csv: <html>#015\u001b[0m\n",
      "\u001b[32m2022-11-14T09:31:29.703:[sagemaker logs]: sagemaker-eu-central-1-821983426621/travel_insurance_claim_data/test.csv: <head><title>504 Gateway Time-out</title></head>#015\u001b[0m\n",
      "\u001b[32m2022-11-14T09:31:29.703:[sagemaker logs]: sagemaker-eu-central-1-821983426621/travel_insurance_claim_data/test.csv: <body bgcolor=\"white\">#015\u001b[0m\n",
      "\u001b[32m2022-11-14T09:31:29.703:[sagemaker logs]: sagemaker-eu-central-1-821983426621/travel_insurance_claim_data/test.csv: <center><h1>504 Gateway Time-out</h1></center>#015\u001b[0m\n",
      "\u001b[32m2022-11-14T09:31:29.703:[sagemaker logs]: sagemaker-eu-central-1-821983426621/travel_insurance_claim_data/test.csv: <hr><center>nginx/1.14.0 (Ubuntu)</center>#015\u001b[0m\n",
      "\u001b[32m2022-11-14T09:31:29.703:[sagemaker logs]: sagemaker-eu-central-1-821983426621/travel_insurance_claim_data/test.csv: </body>#015\u001b[0m\n",
      "\u001b[32m2022-11-14T09:31:29.703:[sagemaker logs]: sagemaker-eu-central-1-821983426621/travel_insurance_claim_data/test.csv: </html>#015\u001b[0m\n",
      "\u001b[34m[2022-11-14 09:31:30 +0000] [37] [CRITICAL] WORKER TIMEOUT (pid:42)\u001b[0m\n",
      "\u001b[35m[2022-11-14 09:31:30 +0000] [37] [CRITICAL] WORKER TIMEOUT (pid:42)\u001b[0m\n",
      "\u001b[34m[2022-11-14 09:31:31 +0000] [91] [INFO] Booting worker with pid: 91\u001b[0m\n",
      "\u001b[35m[2022-11-14 09:31:31 +0000] [91] [INFO] Booting worker with pid: 91\u001b[0m\n"
     ]
    },
    {
     "ename": "UnexpectedStatusException",
     "evalue": "Error for Transform job sagemaker-scikit-learn-2022-11-14-09-21-58-867: Failed. Reason: AlgorithmError: See job logs for more information",
     "output_type": "error",
     "traceback": [
      "\u001b[0;31m---------------------------------------------------------------------------\u001b[0m",
      "\u001b[0;31mUnexpectedStatusException\u001b[0m                 Traceback (most recent call last)",
      "\u001b[0;32m<ipython-input-67-bc8e7173e97b>\u001b[0m in \u001b[0;36m<module>\u001b[0;34m\u001b[0m\n\u001b[1;32m      1\u001b[0m transform_svm_base = est_svm_base.transformer(instance_count = 1, \n\u001b[1;32m      2\u001b[0m                                               instance_type = 'ml.m4.xlarge')\n\u001b[0;32m----> 3\u001b[0;31m \u001b[0mtransform_svm_base\u001b[0m\u001b[0;34m.\u001b[0m\u001b[0mtransform\u001b[0m\u001b[0;34m(\u001b[0m\u001b[0mtest_path_s3\u001b[0m\u001b[0;34m,\u001b[0m \u001b[0mcontent_type\u001b[0m \u001b[0;34m=\u001b[0m \u001b[0;34m'text/csv'\u001b[0m\u001b[0;34m,\u001b[0m \u001b[0msplit_type\u001b[0m \u001b[0;34m=\u001b[0m \u001b[0;34m'Line'\u001b[0m\u001b[0;34m)\u001b[0m\u001b[0;34m\u001b[0m\u001b[0;34m\u001b[0m\u001b[0m\n\u001b[0m",
      "\u001b[0;32m/opt/conda/lib/python3.7/site-packages/sagemaker/workflow/pipeline_context.py\u001b[0m in \u001b[0;36mwrapper\u001b[0;34m(*args, **kwargs)\u001b[0m\n\u001b[1;32m    246\u001b[0m             \u001b[0;32mreturn\u001b[0m \u001b[0mself_instance\u001b[0m\u001b[0;34m.\u001b[0m\u001b[0msagemaker_session\u001b[0m\u001b[0;34m.\u001b[0m\u001b[0mcontext\u001b[0m\u001b[0;34m\u001b[0m\u001b[0;34m\u001b[0m\u001b[0m\n\u001b[1;32m    247\u001b[0m \u001b[0;34m\u001b[0m\u001b[0m\n\u001b[0;32m--> 248\u001b[0;31m         \u001b[0;32mreturn\u001b[0m \u001b[0mrun_func\u001b[0m\u001b[0;34m(\u001b[0m\u001b[0;34m*\u001b[0m\u001b[0margs\u001b[0m\u001b[0;34m,\u001b[0m \u001b[0;34m**\u001b[0m\u001b[0mkwargs\u001b[0m\u001b[0;34m)\u001b[0m\u001b[0;34m\u001b[0m\u001b[0;34m\u001b[0m\u001b[0m\n\u001b[0m\u001b[1;32m    249\u001b[0m \u001b[0;34m\u001b[0m\u001b[0m\n\u001b[1;32m    250\u001b[0m     \u001b[0;32mreturn\u001b[0m \u001b[0mwrapper\u001b[0m\u001b[0;34m\u001b[0m\u001b[0;34m\u001b[0m\u001b[0m\n",
      "\u001b[0;32m/opt/conda/lib/python3.7/site-packages/sagemaker/transformer.py\u001b[0m in \u001b[0;36mtransform\u001b[0;34m(self, data, data_type, content_type, compression_type, split_type, job_name, input_filter, output_filter, join_source, experiment_config, model_client_config, wait, logs)\u001b[0m\n\u001b[1;32m    241\u001b[0m \u001b[0;34m\u001b[0m\u001b[0m\n\u001b[1;32m    242\u001b[0m         \u001b[0;32mif\u001b[0m \u001b[0mwait\u001b[0m\u001b[0;34m:\u001b[0m\u001b[0;34m\u001b[0m\u001b[0;34m\u001b[0m\u001b[0m\n\u001b[0;32m--> 243\u001b[0;31m             \u001b[0mself\u001b[0m\u001b[0;34m.\u001b[0m\u001b[0mlatest_transform_job\u001b[0m\u001b[0;34m.\u001b[0m\u001b[0mwait\u001b[0m\u001b[0;34m(\u001b[0m\u001b[0mlogs\u001b[0m\u001b[0;34m=\u001b[0m\u001b[0mlogs\u001b[0m\u001b[0;34m)\u001b[0m\u001b[0;34m\u001b[0m\u001b[0;34m\u001b[0m\u001b[0m\n\u001b[0m\u001b[1;32m    244\u001b[0m \u001b[0;34m\u001b[0m\u001b[0m\n\u001b[1;32m    245\u001b[0m     \u001b[0;32mdef\u001b[0m \u001b[0mdelete_model\u001b[0m\u001b[0;34m(\u001b[0m\u001b[0mself\u001b[0m\u001b[0;34m)\u001b[0m\u001b[0;34m:\u001b[0m\u001b[0;34m\u001b[0m\u001b[0;34m\u001b[0m\u001b[0m\n",
      "\u001b[0;32m/opt/conda/lib/python3.7/site-packages/sagemaker/transformer.py\u001b[0m in \u001b[0;36mwait\u001b[0;34m(self, logs)\u001b[0m\n\u001b[1;32m    438\u001b[0m     \u001b[0;32mdef\u001b[0m \u001b[0mwait\u001b[0m\u001b[0;34m(\u001b[0m\u001b[0mself\u001b[0m\u001b[0;34m,\u001b[0m \u001b[0mlogs\u001b[0m\u001b[0;34m=\u001b[0m\u001b[0;32mTrue\u001b[0m\u001b[0;34m)\u001b[0m\u001b[0;34m:\u001b[0m\u001b[0;34m\u001b[0m\u001b[0;34m\u001b[0m\u001b[0m\n\u001b[1;32m    439\u001b[0m         \u001b[0;32mif\u001b[0m \u001b[0mlogs\u001b[0m\u001b[0;34m:\u001b[0m\u001b[0;34m\u001b[0m\u001b[0;34m\u001b[0m\u001b[0m\n\u001b[0;32m--> 440\u001b[0;31m             \u001b[0mself\u001b[0m\u001b[0;34m.\u001b[0m\u001b[0msagemaker_session\u001b[0m\u001b[0;34m.\u001b[0m\u001b[0mlogs_for_transform_job\u001b[0m\u001b[0;34m(\u001b[0m\u001b[0mself\u001b[0m\u001b[0;34m.\u001b[0m\u001b[0mjob_name\u001b[0m\u001b[0;34m,\u001b[0m \u001b[0mwait\u001b[0m\u001b[0;34m=\u001b[0m\u001b[0;32mTrue\u001b[0m\u001b[0;34m)\u001b[0m\u001b[0;34m\u001b[0m\u001b[0;34m\u001b[0m\u001b[0m\n\u001b[0m\u001b[1;32m    441\u001b[0m         \u001b[0;32melse\u001b[0m\u001b[0;34m:\u001b[0m\u001b[0;34m\u001b[0m\u001b[0;34m\u001b[0m\u001b[0m\n\u001b[1;32m    442\u001b[0m             \u001b[0mself\u001b[0m\u001b[0;34m.\u001b[0m\u001b[0msagemaker_session\u001b[0m\u001b[0;34m.\u001b[0m\u001b[0mwait_for_transform_job\u001b[0m\u001b[0;34m(\u001b[0m\u001b[0mself\u001b[0m\u001b[0;34m.\u001b[0m\u001b[0mjob_name\u001b[0m\u001b[0;34m)\u001b[0m\u001b[0;34m\u001b[0m\u001b[0;34m\u001b[0m\u001b[0m\n",
      "\u001b[0;32m/opt/conda/lib/python3.7/site-packages/sagemaker/session.py\u001b[0m in \u001b[0;36mlogs_for_transform_job\u001b[0;34m(self, job_name, wait, poll)\u001b[0m\n\u001b[1;32m   4022\u001b[0m \u001b[0;34m\u001b[0m\u001b[0m\n\u001b[1;32m   4023\u001b[0m         \u001b[0;32mif\u001b[0m \u001b[0mwait\u001b[0m\u001b[0;34m:\u001b[0m\u001b[0;34m\u001b[0m\u001b[0;34m\u001b[0m\u001b[0m\n\u001b[0;32m-> 4024\u001b[0;31m             \u001b[0mself\u001b[0m\u001b[0;34m.\u001b[0m\u001b[0m_check_job_status\u001b[0m\u001b[0;34m(\u001b[0m\u001b[0mjob_name\u001b[0m\u001b[0;34m,\u001b[0m \u001b[0mdescription\u001b[0m\u001b[0;34m,\u001b[0m \u001b[0;34m\"TransformJobStatus\"\u001b[0m\u001b[0;34m)\u001b[0m\u001b[0;34m\u001b[0m\u001b[0;34m\u001b[0m\u001b[0m\n\u001b[0m\u001b[1;32m   4025\u001b[0m             \u001b[0;32mif\u001b[0m \u001b[0mdot\u001b[0m\u001b[0;34m:\u001b[0m\u001b[0;34m\u001b[0m\u001b[0;34m\u001b[0m\u001b[0m\n\u001b[1;32m   4026\u001b[0m                 \u001b[0mprint\u001b[0m\u001b[0;34m(\u001b[0m\u001b[0;34m)\u001b[0m\u001b[0;34m\u001b[0m\u001b[0;34m\u001b[0m\u001b[0m\n",
      "\u001b[0;32m/opt/conda/lib/python3.7/site-packages/sagemaker/session.py\u001b[0m in \u001b[0;36m_check_job_status\u001b[0;34m(self, job, desc, status_key_name)\u001b[0m\n\u001b[1;32m   3393\u001b[0m                 \u001b[0mmessage\u001b[0m\u001b[0;34m=\u001b[0m\u001b[0mmessage\u001b[0m\u001b[0;34m,\u001b[0m\u001b[0;34m\u001b[0m\u001b[0;34m\u001b[0m\u001b[0m\n\u001b[1;32m   3394\u001b[0m                 \u001b[0mallowed_statuses\u001b[0m\u001b[0;34m=\u001b[0m\u001b[0;34m[\u001b[0m\u001b[0;34m\"Completed\"\u001b[0m\u001b[0;34m,\u001b[0m \u001b[0;34m\"Stopped\"\u001b[0m\u001b[0;34m]\u001b[0m\u001b[0;34m,\u001b[0m\u001b[0;34m\u001b[0m\u001b[0;34m\u001b[0m\u001b[0m\n\u001b[0;32m-> 3395\u001b[0;31m                 \u001b[0mactual_status\u001b[0m\u001b[0;34m=\u001b[0m\u001b[0mstatus\u001b[0m\u001b[0;34m,\u001b[0m\u001b[0;34m\u001b[0m\u001b[0;34m\u001b[0m\u001b[0m\n\u001b[0m\u001b[1;32m   3396\u001b[0m             )\n\u001b[1;32m   3397\u001b[0m \u001b[0;34m\u001b[0m\u001b[0m\n",
      "\u001b[0;31mUnexpectedStatusException\u001b[0m: Error for Transform job sagemaker-scikit-learn-2022-11-14-09-21-58-867: Failed. Reason: AlgorithmError: See job logs for more information"
     ]
    }
   ],
   "source": [
    "transform_svm_base = est_svm_base.transformer(instance_count = 1, \n",
    "                                              instance_type = 'ml.m4.xlarge')\n",
    "transform_svm_base.transform(test_path_s3, content_type = 'text/csv', split_type = 'Line')"
   ]
  },
  {
   "cell_type": "code",
   "execution_count": null,
   "metadata": {},
   "outputs": [],
   "source": [
    "transform_svm_base.output_path, data_dir"
   ]
  },
  {
   "cell_type": "code",
   "execution_count": null,
   "metadata": {},
   "outputs": [],
   "source": [
    "# Copy predictions from batch transform job to Jupyter NB instance folder & rename file\n",
    "!aws s3 cp --recursive $transform_svm_base.output_path $data_dir\n",
    "!mv data/test.csv.out data/base_svm_test.csv.out"
   ]
  },
  {
   "cell_type": "code",
   "execution_count": null,
   "metadata": {},
   "outputs": [],
   "source": [
    "predict_svm_base = pd.read_csv(os.path.join(data_dir, 'base_svm_test.csv.out'), header=None)\n",
    "print('Accuracy SVM (base) is: ' + str(round(accuracy_score(travel_insurance_df_test_y, predict_svm_base.transpose()),4)))\n",
    "print('Recall SVM (base) is: ' + str(round(recall_score(travel_insurance_df_test_y, predict_svm_base.transpose()),4)))"
   ]
  },
  {
   "cell_type": "markdown",
   "metadata": {},
   "source": [
    "### (4-z) Test SVM baseline model with batch transform (AWS SDK boto3)"
   ]
  },
  {
   "cell_type": "markdown",
   "metadata": {},
   "source": [
    "Due to Kernel shutdown need to create batch transform job from training job run before (model artifacts stored on S3) "
   ]
  },
  {
   "cell_type": "code",
   "execution_count": 98,
   "metadata": {},
   "outputs": [],
   "source": [
    "training_job_info = sm_session.sagemaker_client.describe_training_job(TrainingJobName='sagemaker-scikit-learn-2022-11-14-08-20-46-766')\n",
    "model_artifacts_paths3 = training_job_info['ModelArtifacts']['S3ModelArtifacts']\n",
    "training_image = training_job_info['AlgorithmSpecification']['TrainingImage']"
   ]
  },
  {
   "cell_type": "code",
   "execution_count": 99,
   "metadata": {},
   "outputs": [],
   "source": [
    "primary_container = {\"Image\" : training_image, \n",
    "                     \"ModelDataUrl\" : model_artifacts_paths3}\n",
    "model_name= training_job_info['TrainingJobName'] + '-model'\n",
    "model_info = sm_session.sagemaker_client.create_model(ModelName = model_name,\n",
    "                                                      ExecutionRoleArn = sm_role,\n",
    "                                                      PrimaryContainer = primary_container)"
   ]
  },
  {
   "cell_type": "code",
   "execution_count": 100,
   "metadata": {},
   "outputs": [],
   "source": [
    "transform_job_name = training_job_info['TrainingJobName'] + '-transform-job'\n",
    "transform_output_path = \"s3://{}/{}/batch-transform/\".format(sm_session.default_bucket(),prefix)"
   ]
  },
  {
   "cell_type": "code",
   "execution_count": 101,
   "metadata": {},
   "outputs": [],
   "source": [
    "transform_request = {\n",
    "    \"TransformJobName\" : transform_job_name,\n",
    "    \"ModelName\" : model_name,\n",
    "    \"MaxConcurrentTransforms\": 1,\n",
    "    \"MaxPayloadInMB\" : 6,\n",
    "    \"BatchStrategy\" : \"MultiRecord\",\n",
    "    \"TransformOutput\" : {\n",
    "        \"S3OutputPath\" : transform_output_path\n",
    "    },\n",
    "    \"TransformInput\": {\n",
    "        \"ContentType\": \"text/csv\",\n",
    "        \"SplitType\": \"Line\",\n",
    "        \"DataSource\": {\n",
    "            \"S3DataSource\": {\n",
    "                \"S3DataType\": \"S3Prefix\",\n",
    "                \"S3Uri\": test_path_s3,\n",
    "            }\n",
    "        }\n",
    "    },\n",
    "    \"TransformResources\": {\n",
    "        \"InstanceType\": \"ml.m4.xlarge\",\n",
    "        \"InstanceCount\": 1\n",
    "    }\n",
    "}"
   ]
  },
  {
   "cell_type": "code",
   "execution_count": 102,
   "metadata": {},
   "outputs": [
    {
     "name": "stdout",
     "output_type": "stream",
     "text": [
      "......................................................................................................................................................................................................................................................................................................................................................................................................................................*\n"
     ]
    },
    {
     "ename": "UnexpectedStatusException",
     "evalue": "Error for Transform job sagemaker-scikit-learn-2022-11-14-08-20-46-766-transform-job: Failed. Reason: AlgorithmError: Model container failed to respond to ping. Please ensure /ping endpoint is implemented and responds with an HTTP 200 status code",
     "output_type": "error",
     "traceback": [
      "\u001b[0;31m---------------------------------------------------------------------------\u001b[0m",
      "\u001b[0;31mUnexpectedStatusException\u001b[0m                 Traceback (most recent call last)",
      "\u001b[0;32m<ipython-input-102-b7dfd466ec37>\u001b[0m in \u001b[0;36m<module>\u001b[0;34m\u001b[0m\n\u001b[1;32m      1\u001b[0m \u001b[0mtransform_response\u001b[0m \u001b[0;34m=\u001b[0m \u001b[0msm_session\u001b[0m\u001b[0;34m.\u001b[0m\u001b[0msagemaker_client\u001b[0m\u001b[0;34m.\u001b[0m\u001b[0mcreate_transform_job\u001b[0m\u001b[0;34m(\u001b[0m\u001b[0;34m**\u001b[0m\u001b[0mtransform_request\u001b[0m\u001b[0;34m)\u001b[0m\u001b[0;34m\u001b[0m\u001b[0;34m\u001b[0m\u001b[0m\n\u001b[0;32m----> 2\u001b[0;31m \u001b[0mtransform_desc\u001b[0m \u001b[0;34m=\u001b[0m \u001b[0msm_session\u001b[0m\u001b[0;34m.\u001b[0m\u001b[0mwait_for_transform_job\u001b[0m\u001b[0;34m(\u001b[0m\u001b[0mtransform_job_name\u001b[0m\u001b[0;34m)\u001b[0m\u001b[0;34m\u001b[0m\u001b[0;34m\u001b[0m\u001b[0m\n\u001b[0m",
      "\u001b[0;32m/opt/conda/lib/python3.7/site-packages/sagemaker/session.py\u001b[0m in \u001b[0;36mwait_for_transform_job\u001b[0;34m(self, job, poll)\u001b[0m\n\u001b[1;32m   3330\u001b[0m         \"\"\"\n\u001b[1;32m   3331\u001b[0m         \u001b[0mdesc\u001b[0m \u001b[0;34m=\u001b[0m \u001b[0m_wait_until\u001b[0m\u001b[0;34m(\u001b[0m\u001b[0;32mlambda\u001b[0m\u001b[0;34m:\u001b[0m \u001b[0m_transform_job_status\u001b[0m\u001b[0;34m(\u001b[0m\u001b[0mself\u001b[0m\u001b[0;34m.\u001b[0m\u001b[0msagemaker_client\u001b[0m\u001b[0;34m,\u001b[0m \u001b[0mjob\u001b[0m\u001b[0;34m)\u001b[0m\u001b[0;34m,\u001b[0m \u001b[0mpoll\u001b[0m\u001b[0;34m)\u001b[0m\u001b[0;34m\u001b[0m\u001b[0;34m\u001b[0m\u001b[0m\n\u001b[0;32m-> 3332\u001b[0;31m         \u001b[0mself\u001b[0m\u001b[0;34m.\u001b[0m\u001b[0m_check_job_status\u001b[0m\u001b[0;34m(\u001b[0m\u001b[0mjob\u001b[0m\u001b[0;34m,\u001b[0m \u001b[0mdesc\u001b[0m\u001b[0;34m,\u001b[0m \u001b[0;34m\"TransformJobStatus\"\u001b[0m\u001b[0;34m)\u001b[0m\u001b[0;34m\u001b[0m\u001b[0;34m\u001b[0m\u001b[0m\n\u001b[0m\u001b[1;32m   3333\u001b[0m         \u001b[0;32mreturn\u001b[0m \u001b[0mdesc\u001b[0m\u001b[0;34m\u001b[0m\u001b[0;34m\u001b[0m\u001b[0m\n\u001b[1;32m   3334\u001b[0m \u001b[0;34m\u001b[0m\u001b[0m\n",
      "\u001b[0;32m/opt/conda/lib/python3.7/site-packages/sagemaker/session.py\u001b[0m in \u001b[0;36m_check_job_status\u001b[0;34m(self, job, desc, status_key_name)\u001b[0m\n\u001b[1;32m   3393\u001b[0m                 \u001b[0mmessage\u001b[0m\u001b[0;34m=\u001b[0m\u001b[0mmessage\u001b[0m\u001b[0;34m,\u001b[0m\u001b[0;34m\u001b[0m\u001b[0;34m\u001b[0m\u001b[0m\n\u001b[1;32m   3394\u001b[0m                 \u001b[0mallowed_statuses\u001b[0m\u001b[0;34m=\u001b[0m\u001b[0;34m[\u001b[0m\u001b[0;34m\"Completed\"\u001b[0m\u001b[0;34m,\u001b[0m \u001b[0;34m\"Stopped\"\u001b[0m\u001b[0;34m]\u001b[0m\u001b[0;34m,\u001b[0m\u001b[0;34m\u001b[0m\u001b[0;34m\u001b[0m\u001b[0m\n\u001b[0;32m-> 3395\u001b[0;31m                 \u001b[0mactual_status\u001b[0m\u001b[0;34m=\u001b[0m\u001b[0mstatus\u001b[0m\u001b[0;34m,\u001b[0m\u001b[0;34m\u001b[0m\u001b[0;34m\u001b[0m\u001b[0m\n\u001b[0m\u001b[1;32m   3396\u001b[0m             )\n\u001b[1;32m   3397\u001b[0m \u001b[0;34m\u001b[0m\u001b[0m\n",
      "\u001b[0;31mUnexpectedStatusException\u001b[0m: Error for Transform job sagemaker-scikit-learn-2022-11-14-08-20-46-766-transform-job: Failed. Reason: AlgorithmError: Model container failed to respond to ping. Please ensure /ping endpoint is implemented and responds with an HTTP 200 status code"
     ]
    }
   ],
   "source": [
    "transform_response = sm_session.sagemaker_client.create_transform_job(**transform_request)\n",
    "transform_desc = sm_session.wait_for_transform_job(transform_job_name)"
   ]
  },
  {
   "cell_type": "code",
   "execution_count": null,
   "metadata": {},
   "outputs": [],
   "source": [
    "# Copy predictions from batch transform job to Jupyter NB instance folder\n",
    "!aws s3 cp --recursive $transform_obj_svm.output_path $data_dir"
   ]
  },
  {
   "cell_type": "code",
   "execution_count": null,
   "metadata": {},
   "outputs": [],
   "source": [
    "predictions_base_svm = pd.read_csv(os.path.join(data_dir, 'test.csv.out'), header=None)"
   ]
  },
  {
   "cell_type": "code",
   "execution_count": null,
   "metadata": {},
   "outputs": [],
   "source": [
    "transform_obj_svm.wait()"
   ]
  },
  {
   "cell_type": "markdown",
   "metadata": {},
   "source": [
    "### (h) Train Random Forest w re-sampled training data (SMOTE-Tomek)"
   ]
  },
  {
   "cell_type": "code",
   "execution_count": null,
   "metadata": {},
   "outputs": [],
   "source": []
  },
  {
   "cell_type": "markdown",
   "metadata": {},
   "source": [
    "### (i) Train SVM w re-sampled training data (SMOTE-Tomek)"
   ]
  },
  {
   "cell_type": "code",
   "execution_count": null,
   "metadata": {},
   "outputs": [],
   "source": []
  },
  {
   "cell_type": "markdown",
   "metadata": {},
   "source": [
    "### (j) Test models with re-sampled training data with batch transform"
   ]
  },
  {
   "cell_type": "markdown",
   "metadata": {},
   "source": [
    "#### (j-1) Test RF model (re-sampled)"
   ]
  },
  {
   "cell_type": "code",
   "execution_count": null,
   "metadata": {},
   "outputs": [],
   "source": []
  },
  {
   "cell_type": "markdown",
   "metadata": {},
   "source": [
    "#### (j-2) Test SVM model (re-sampled)"
   ]
  },
  {
   "cell_type": "code",
   "execution_count": null,
   "metadata": {},
   "outputs": [],
   "source": []
  },
  {
   "cell_type": "markdown",
   "metadata": {},
   "source": [
    "### (k) Train Random Forest w re-sampled training data + hyperparameter tuning"
   ]
  },
  {
   "cell_type": "code",
   "execution_count": null,
   "metadata": {},
   "outputs": [],
   "source": []
  },
  {
   "cell_type": "markdown",
   "metadata": {},
   "source": [
    "### (l) Train SVM w re-sampled training data + hyperparameter tuning"
   ]
  },
  {
   "cell_type": "code",
   "execution_count": null,
   "metadata": {},
   "outputs": [],
   "source": []
  },
  {
   "cell_type": "markdown",
   "metadata": {},
   "source": [
    "### (m) Deploy models from (j), (k) behind multi-model endpoint"
   ]
  },
  {
   "cell_type": "code",
   "execution_count": null,
   "metadata": {},
   "outputs": [],
   "source": []
  },
  {
   "cell_type": "markdown",
   "metadata": {},
   "source": [
    "### (n) Run A/B Test with multi-model endpoint"
   ]
  },
  {
   "cell_type": "code",
   "execution_count": null,
   "metadata": {},
   "outputs": [],
   "source": []
  }
 ],
 "metadata": {
  "instance_type": "ml.t3.medium",
  "kernelspec": {
   "display_name": "Python 3 (Data Science)",
   "language": "python",
   "name": "python3__SAGEMAKER_INTERNAL__arn:aws:sagemaker:eu-central-1:936697816551:image/datascience-1.0"
  },
  "language_info": {
   "codemirror_mode": {
    "name": "ipython",
    "version": 3
   },
   "file_extension": ".py",
   "mimetype": "text/x-python",
   "name": "python",
   "nbconvert_exporter": "python",
   "pygments_lexer": "ipython3",
   "version": "3.7.10"
  }
 },
 "nbformat": 4,
 "nbformat_minor": 4
}
